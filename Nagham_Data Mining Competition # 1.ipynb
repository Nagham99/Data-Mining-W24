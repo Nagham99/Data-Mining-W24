{
 "cells": [
  {
   "cell_type": "markdown",
   "id": "1f42a7be",
   "metadata": {},
   "source": [
    "*By Nagham Rizk*  \n",
    "*23ppmk@queensu.ca*  \n",
    "*Student ID: 20481034*  \n",
    "*CISC 873 Data Mining - Winter 2024*  \n",
    "*DR Steven Ding*  \n",
    "*CISC 873*"
   ]
  },
  {
   "cell_type": "markdown",
   "id": "fedf1a51",
   "metadata": {},
   "source": [
    "<center>\n",
    "\n",
    "# CISC-873-DM-W24-A1\n",
    "# A1 Wish.com Product Rating Prediction\n",
    "\n",
    "</center>"
   ]
  },
  {
   "cell_type": "markdown",
   "id": "022084c7",
   "metadata": {},
   "source": [
    "![Data Science Image](cm.jpg)\n"
   ]
  },
  {
   "cell_type": "markdown",
   "id": "eddf644b",
   "metadata": {},
   "source": [
    "### Problem Formulation:\n",
    "\n",
    "#### Input:\n",
    "The input consists of various features related to products listed on Wish.com. These features include product description, price, merchant information, shipping details.\n",
    "\n",
    "\n",
    "\n",
    "#### Output:\n",
    "The output is the predicted product rating, which is categorized from 1 to 5. Higher ratings indicate that customers are more likely to like the product.\n",
    "\n",
    "\n",
    "#### Data Mining Function Required:\n",
    "the problem is a classification problem, where the goal is to predict the category of a product's rating (from 1 to 5) based on the input features of the product.and this is a Supervised learning techniques will be used for this task, as we have labeled data (product ratings). Classification algorithms will be employed to predict the product ratings based on the input features.\n"
   ]
  },
  {
   "cell_type": "markdown",
   "id": "549622f6",
   "metadata": {},
   "source": [
    "### Challenges:\n",
    "\n",
    "1. **Noisy Data**: The dataset contains noise and duplicate that needs to be cleaned before training the models.\n",
    "2. **Feature Engineering**: Selecting the most relevant features and engineering new features could be challenging but essential for improving model performance.\n",
    "3. **Imbalanced Classes**: The ratings may not be evenly distributed, leading to imbalanced classes which could affect model performance.\n",
    "4. **Model Selection and Tuning**: Choosing the appropriate model and tuning its hyperparameters to achieve the best performance is crucial.\n",
    "5. **Interpretability**: Ensuring the model's predictions are interpretable and can provide insights into what factors contribute to higher/lower ratings.\n"
   ]
  },
  {
   "cell_type": "markdown",
   "id": "cf773fe5",
   "metadata": {},
   "source": [
    "### Experimental Protocol and Preprocessing Steps:\n",
    "\n",
    "#### Experimental Protocol:\n",
    "1. **Data Loading**: Load the Wish.com product dataset.\n",
    "2. **Data Exploration**: Explore the dataset to understand its structure, features, and distributions.\n",
    "3. **Data Preprocessing**: Clean the dataset by handling missing values, dealing with outliers, encoding categorical variables, etc.\n",
    "4. **Feature Engineering**: Create new features ,transform existing ones to enhance model performance.\n",
    "5. **Model Training**: Train different classification models (Random forest,Decision Trees, SVM, Naive Bayes) on the preprocessed dataset.\n",
    "6. **Model Evaluation**: Evaluate the models using appropriate metrics ( F1-Score) and compare their performance.\n",
    "7. **Model Tuning**: Fine-tune hyperparameters of the selected models to improve their performance.\n"
   ]
  },
  {
   "cell_type": "markdown",
   "id": "5cbf619a",
   "metadata": {},
   "source": [
    "### Impact:\n",
    "\n",
    "By accurately predicting product ratings, Wish.com can better understand customer preferences and tailor their product listings accordingly. This can lead to improved customer satisfaction and potentially increased sales for the platform.\n",
    "\n",
    "\n",
    "### Ideal Solution:\n",
    "\n",
    "in my trials an ideal solution that RF after tuning and boosting perfom well on validation than DT and SVM.so ideal solution would involve building a robust classification model that accurately predicts product ratings based on various features. This model should be interpretable, allowing stakeholders to understand the factors influencing product ratings. Additionally, the solution should be scalable to handle large volumes of data and adaptable to changing trends in the e-commerce landscape."
   ]
  },
  {
   "cell_type": "markdown",
   "id": "681df9ec",
   "metadata": {},
   "source": [
    "### Preprocessing Steps:\n",
    "\n",
    "1. **Handling Missing Values**: Fill in missing values or remove rows/columns with significant missing data.\n",
    "2. **Outlier Detection and Removal**: Identify and handle outliers that might adversely affect model performance.\n",
    "3. **Encoding Categorical Variables**: Convert categorical variables into numerical representations using techniques like one-hot encoding.\n",
    "4. **Feature Scaling**: Scale numerical features to a similar range to prevent certain features from dominating others during model training.\n",
    "5. **Feature Selection**: Select the most relevant features using techniques like correlation analysis, feature importance scores, or domain knowledge.\n",
    "6. **Data Splitting**: Split the training dataset into training and validation sets and then use test data to evaluate model performance on unseen data."
   ]
  },
  {
   "cell_type": "markdown",
   "id": "0cac2484",
   "metadata": {},
   "source": [
    "## Model Tuning and Documentation:"
   ]
  },
  {
   "cell_type": "markdown",
   "id": "7b447117",
   "metadata": {},
   "source": [
    "| Trail   | Model                          | Reason                                                        | Expected Outcome                                             | Observations                                                                                                  |\n",
    "|---------|--------------------------------|---------------------------------------------------------------|--------------------------------------------------------------|---------------------------------------------------------------------------------------------------------------|\n",
    "| Trail 0 | Baseline (Random Forest)       | Establish baseline performance using default configurations  | Obtain initial performance metrics for further comparison   | Baseline model performs decently but has room for improvement.                                                  |\n",
    "| Trail 1 | Random Forest (Tuning)         | Hyperparameter tuning to optimize model performance            | Improved performance compared to baseline                   | Marginal improvement in F1 score after tuning.                                                                 |\n",
    "| Trail 2 | Decision Tree Classifier       | Explore simpler model for interpretability                      | Evaluate performance and interpretability of decision tree  | Decision tree achieved lower F1 score compared to ensemble methods.                                           |\n",
    "| Trail 3 | Decision Tree (Hyperparameter Tuning) | Further optimize decision tree performance         | Improved performance compared to default configuration       | Minimal improvement in F1 score after hyperparameter tuning.                                                  |\n",
    "| Trail 4 | Gradient Boosting Classifier  | Utilize ensemble learning for improved performance             | Achieve higher predictive accuracy and F1 score             | Gradient boosting outperformed other models with a significant improvement in F1 score.                        |\n",
    "| Trail 5 | Support Vector Machine (SVM)  | Explore another complex model for capturing relationships      | Assess SVM's performance and computational overhead         | SVM achieved moderate performance but may have computational limitations.                                     |\n",
    "| Trail 6 | Voting Classifier             | Combine predictions from multiple models for enhanced performance | Leverage ensemble learning to boost accuracy           | Voting classifier achieved comparable performance to Gradient Boosting.                                       |\n",
    "| Trail 7 | Naive Bayes                   | Evaluate performance of simple probabilistic classifier        | Assess suitability of Naive Bayes for the dataset          | Naive Bayes performed poorly, suggesting its independence assumption may not hold true for the dataset.       |\n"
   ]
  },
  {
   "cell_type": "markdown",
   "id": "c9e5d83b",
   "metadata": {},
   "source": [
    "### Model Evaluation and Analysis\n",
    "\n",
    "### Baseline Model (Random Forest)\n",
    "\n",
    "- **F1 Score on Validation Set:** 0.7808\n",
    "- The baseline Random Forest model performed decently on the validation set, achieving an F1 score of 0.7808.\n",
    "\n",
    "### Trial 1: Hyperparameter Tuning for Random Forest\n",
    "\n",
    "- **F1 Score on Validation Set:** 0.7854\n",
    "- After hyperparameter tuning, the Random Forest model achieved a slightly improved F1 score of 0.7854. While the improvement was marginal, it demonstrates the importance of tuning for optimizing model performance.\n",
    "\n",
    "### Trial 2: Decision Tree Classifier\n",
    "\n",
    "- **F1 Score on Validation Set:** 0.7300\n",
    "- Utilizing a Decision Tree Classifier, the model achieved an F1 score of 0.7300 on the validation set. Decision trees provide interpretability but may struggle with complex relationships in the data.\n",
    "\n",
    "### Trial 3: Hyperparameter Tuning for Decision Tree Classifier\n",
    "\n",
    "- **F1 Score on Validation Set:** 0.7314\n",
    "- Despite hyperparameter tuning, the Decision Tree Classifier's performance saw minimal improvement, with an F1 score of 0.7314. This suggests that decision trees may not be the best fit for the dataset's complexity.\n",
    "\n",
    "### Trial 4: Gradient Boosting Classifier\n",
    "\n",
    "- **F1 Score on Validation Set:** 0.8148\n",
    "- The Gradient Boosting Classifier outperformed previous models with an F1 score of 0.8148 on the validation set. Its ensemble learning approach effectively boosted predictive accuracy.\n",
    "\n",
    "### Trial 5: Support Vector Machine (SVM)\n",
    "\n",
    "- **F1 Score on Validation Set:** 0.7314\n",
    "- SVM achieved an F1 score of 0.7314 on the validation set. While SVM can capture complex relationships, it may struggle with larger datasets and computational overhead.\n",
    "\n",
    "### Trial 6: Voting Classifier\n",
    "\n",
    "- **F1 Score on Validation Set:** 0.8148\n",
    "- The Voting Classifier combined predictions from Random Forest and Gradient Boosting Classifier, achieving an F1 score of 0.8148 on the validation set, matching GBC's performance.\n",
    "\n",
    "### Trial 7: Naive Bayes (NB)\n",
    "\n",
    "- **F1 Score on Validation Set:** 0.4306\n",
    "- Naive Bayes yielded the lowest F1 score of 0.4306, indicating that its simplifying assumptions about feature independence may not hold true for the dataset.\n",
    "\n",
    "### Conclusion\n",
    "\n",
    "Among all trials, the Gradient Boosting Classifier and the Voting Classifier achieved the highest F1 scores on the validation set, demonstrating their effectiveness in capturing complex relationships and improving predictive accuracy.\n",
    "While simpler models like Decision Trees and Naive Bayes offer interpretability and computational efficiency, they may struggle with capturing intricate patterns in the data, leading to lower performance.\n",
    "Hyperparameter tuning played a crucial role in enhancing model performance, especially for ensemble methods like Random Forest and Gradient Boosting.\n",
    "The choice of model should consider the trade-offs between performance, interpretability, and computational complexity, based on the specific requirements and constraints of the task.\n",
    "\n"
   ]
  },
  {
   "cell_type": "markdown",
   "id": "68e336bf",
   "metadata": {},
   "source": [
    "### Answers to Questions:\n",
    "\n",
    "🌈 **Why Data Mining is a misnomer? What is another preferred name?**\n",
    "Data Mining is considered a misnomer because it implies extracting valuable insights from data that is already collected, whereas in reality, much of the process involves actively seeking out patterns and knowledge from the data. Another preferred name is Knowledge Discovery in Databases (KDD).\n",
    "\n",
    "🌈 **What is the general knowledge discovery process? What is the difference between a data engineer and data scientist/AI engineer?**\n",
    "The general knowledge discovery process involves multiple steps such as data cleaning, preprocessing, feature engineering, model selection, evaluation, and deployment. Data engineers primarily focus on building and maintaining the infrastructure for data generation, collection, and storage. Data scientists/AI engineers focus on extracting insights from data using statistical and machine learning techniques to solve specific problems or make predictions.\n",
    "\n",
    "🌈 **In data mining, what is the difference between prediction and categorization?**\n",
    "Prediction involves estimating a continuous value, such as predicting the price of a house, while categorization involves assigning an input to a discrete category or class, such as classifying emails as spam or not spam.\n",
    "\n",
    "🌈 **Why data science/machine learning is a bad idea in the context of information security?**\n",
    "Data science and machine learning can be a bad idea in the context of information security if not implemented carefully. Machine learning models can be susceptible to adversarial attacks, where slight modifications to input data can lead to incorrect predictions. Additionally, reliance solely on machine learning models without considering other security measures can create vulnerabilities.\n",
    "\n",
    "🌈 **What is CIA principle and how can we use it to assess the security/privacy aspect of the AI system/pipelines?**\n",
    "The CIA principle stands for Confidentiality, Integrity, and Availability. We can use this principle to assess the security/privacy aspect of AI systems/pipelines by evaluating:\n",
    "- Confidentiality: Ensuring that sensitive information is only accessible to authorized users and protected from unauthorized access.\n",
    "- Integrity: Ensuring that data and processes are not tampered with or altered by unauthorized entities, maintaining data integrity and trustworthiness.\n",
    "- Availability: Ensuring that AI systems and data are available and accessible to authorized users when needed, preventing denial-of-service attacks and ensuring system reliability.\n"
   ]
  },
  {
   "cell_type": "markdown",
   "id": "d199e056",
   "metadata": {},
   "source": [
    "### Import necessary libraries"
   ]
  },
  {
   "cell_type": "code",
   "execution_count": 1,
   "id": "38563e06",
   "metadata": {},
   "outputs": [],
   "source": [
    "# Import necessary libraries\n",
    "import pandas as pd\n",
    "import numpy as np\n",
    "from sklearn.model_selection import train_test_split\n",
    "from sklearn.preprocessing import StandardScaler\n",
    "from sklearn.ensemble import RandomForestClassifier\n",
    "from sklearn.metrics import accuracy_score\n",
    "from sklearn import metrics \n",
    "import matplotlib.pyplot as plt\n",
    "import seaborn as sns\n",
    "from matplotlib.colors import ListedColormap\n",
    "from sklearn.model_selection import train_test_split\n",
    "from scipy.stats import boxcox\n",
    "from sklearn.pipeline import Pipeline\n",
    "from sklearn.preprocessing import StandardScaler\n",
    "from sklearn.neighbors import KNeighborsClassifier\n",
    "from sklearn.svm import SVC\n",
    "from sklearn.model_selection import GridSearchCV, StratifiedKFold\n",
    "from sklearn.metrics import classification_report, accuracy_score\n",
    "from sklearn.tree import DecisionTreeClassifier\n",
    "from sklearn.ensemble import RandomForestClassifier\n",
    "from sklearn.naive_bayes import GaussianNB\n",
    "from sklearn.metrics import f1_score\n",
    "from sklearn.tree import DecisionTreeClassifier\n",
    "from sklearn.metrics import f1_score\n",
    "from sklearn.pipeline import make_pipeline"
   ]
  },
  {
   "cell_type": "markdown",
   "id": "1749f323",
   "metadata": {},
   "source": [
    "## Data Loading"
   ]
  },
  {
   "cell_type": "code",
   "execution_count": 2,
   "id": "cada45d1",
   "metadata": {},
   "outputs": [],
   "source": [
    "# Step 1: Load the training data\n",
    "train_data = pd.read_csv(\"train_new.csv\",index_col=\"id\")\n",
    "test_data=pd.read_csv(\"test_new.csv\",index_col=\"id\")\n",
    "new_subm=pd.read_csv(\"sample_submission_new.csv\")"
   ]
  },
  {
   "cell_type": "code",
   "execution_count": 3,
   "id": "36d3e739",
   "metadata": {},
   "outputs": [],
   "source": [
    "## i will use this data for encoding and compare the result\n",
    "df_r=pd.read_csv(\"train_new.csv\",index_col=\"id\")\n",
    "df_t=test_data=pd.read_csv(\"test_new.csv\",index_col=\"id\") "
   ]
  },
  {
   "cell_type": "markdown",
   "id": "cc187d70",
   "metadata": {},
   "source": [
    "## Data exploration"
   ]
  },
  {
   "cell_type": "code",
   "execution_count": 4,
   "id": "2d9e69f7",
   "metadata": {},
   "outputs": [
    {
     "name": "stdout",
     "output_type": "stream",
     "text": [
      "(1094, 33) (479, 32)\n"
     ]
    }
   ],
   "source": [
    "print(train_data.shape,test_data.shape)"
   ]
  },
  {
   "cell_type": "code",
   "execution_count": 5,
   "id": "e37ca849",
   "metadata": {},
   "outputs": [
    {
     "data": {
      "text/html": [
       "<div>\n",
       "<style scoped>\n",
       "    .dataframe tbody tr th:only-of-type {\n",
       "        vertical-align: middle;\n",
       "    }\n",
       "\n",
       "    .dataframe tbody tr th {\n",
       "        vertical-align: top;\n",
       "    }\n",
       "\n",
       "    .dataframe thead th {\n",
       "        text-align: right;\n",
       "    }\n",
       "</style>\n",
       "<table border=\"1\" class=\"dataframe\">\n",
       "  <thead>\n",
       "    <tr style=\"text-align: right;\">\n",
       "      <th></th>\n",
       "      <th>price</th>\n",
       "      <th>retail_price</th>\n",
       "      <th>currency_buyer</th>\n",
       "      <th>units_sold</th>\n",
       "      <th>uses_ad_boosts</th>\n",
       "      <th>rating</th>\n",
       "      <th>rating_count</th>\n",
       "      <th>badges_count</th>\n",
       "      <th>badge_local_product</th>\n",
       "      <th>badge_product_quality</th>\n",
       "      <th>...</th>\n",
       "      <th>merchant_title</th>\n",
       "      <th>merchant_name</th>\n",
       "      <th>merchant_info_subtitle</th>\n",
       "      <th>merchant_rating_count</th>\n",
       "      <th>merchant_rating</th>\n",
       "      <th>merchant_id</th>\n",
       "      <th>merchant_has_profile_picture</th>\n",
       "      <th>merchant_profile_picture</th>\n",
       "      <th>theme</th>\n",
       "      <th>crawl_month</th>\n",
       "    </tr>\n",
       "    <tr>\n",
       "      <th>id</th>\n",
       "      <th></th>\n",
       "      <th></th>\n",
       "      <th></th>\n",
       "      <th></th>\n",
       "      <th></th>\n",
       "      <th></th>\n",
       "      <th></th>\n",
       "      <th></th>\n",
       "      <th></th>\n",
       "      <th></th>\n",
       "      <th></th>\n",
       "      <th></th>\n",
       "      <th></th>\n",
       "      <th></th>\n",
       "      <th></th>\n",
       "      <th></th>\n",
       "      <th></th>\n",
       "      <th></th>\n",
       "      <th></th>\n",
       "      <th></th>\n",
       "      <th></th>\n",
       "    </tr>\n",
       "  </thead>\n",
       "  <tbody>\n",
       "    <tr>\n",
       "      <th>272</th>\n",
       "      <td>8.00</td>\n",
       "      <td>7</td>\n",
       "      <td>EUR</td>\n",
       "      <td>10000</td>\n",
       "      <td>1</td>\n",
       "      <td>4.0</td>\n",
       "      <td>1670</td>\n",
       "      <td>0</td>\n",
       "      <td>0</td>\n",
       "      <td>0</td>\n",
       "      <td>...</td>\n",
       "      <td>keepahorse</td>\n",
       "      <td>keepahorse</td>\n",
       "      <td>88 % avis positifs (66,644 notes)</td>\n",
       "      <td>66644</td>\n",
       "      <td>4.137582</td>\n",
       "      <td>577fb2b368116418674befd9</td>\n",
       "      <td>1</td>\n",
       "      <td>https://s3-us-west-1.amazonaws.com/sweeper-pro...</td>\n",
       "      <td>summer</td>\n",
       "      <td>2020-08</td>\n",
       "    </tr>\n",
       "    <tr>\n",
       "      <th>1515</th>\n",
       "      <td>8.00</td>\n",
       "      <td>7</td>\n",
       "      <td>EUR</td>\n",
       "      <td>1000</td>\n",
       "      <td>0</td>\n",
       "      <td>4.0</td>\n",
       "      <td>843</td>\n",
       "      <td>1</td>\n",
       "      <td>1</td>\n",
       "      <td>0</td>\n",
       "      <td>...</td>\n",
       "      <td>shanghaimingqidianqikejiyouxiangongsi</td>\n",
       "      <td>上海铭启电气科技有限公司</td>\n",
       "      <td>91 % avis positifs (25,752 notes)</td>\n",
       "      <td>25752</td>\n",
       "      <td>4.256873</td>\n",
       "      <td>566a3ef17233ff2686443082</td>\n",
       "      <td>0</td>\n",
       "      <td>NaN</td>\n",
       "      <td>summer</td>\n",
       "      <td>2020-08</td>\n",
       "    </tr>\n",
       "    <tr>\n",
       "      <th>940</th>\n",
       "      <td>6.00</td>\n",
       "      <td>34</td>\n",
       "      <td>EUR</td>\n",
       "      <td>100</td>\n",
       "      <td>0</td>\n",
       "      <td>4.0</td>\n",
       "      <td>10</td>\n",
       "      <td>0</td>\n",
       "      <td>0</td>\n",
       "      <td>0</td>\n",
       "      <td>...</td>\n",
       "      <td>zhaodongmei</td>\n",
       "      <td>zhaodongmei</td>\n",
       "      <td>83 % avis positifs (3,897 notes)</td>\n",
       "      <td>3897</td>\n",
       "      <td>3.928920</td>\n",
       "      <td>5aacd6c1ccf0c83e5a6f3de0</td>\n",
       "      <td>0</td>\n",
       "      <td>NaN</td>\n",
       "      <td>summer</td>\n",
       "      <td>2020-08</td>\n",
       "    </tr>\n",
       "    <tr>\n",
       "      <th>309</th>\n",
       "      <td>4.67</td>\n",
       "      <td>4</td>\n",
       "      <td>EUR</td>\n",
       "      <td>100</td>\n",
       "      <td>1</td>\n",
       "      <td>3.0</td>\n",
       "      <td>82</td>\n",
       "      <td>0</td>\n",
       "      <td>0</td>\n",
       "      <td>0</td>\n",
       "      <td>...</td>\n",
       "      <td>pookie0331</td>\n",
       "      <td>pookie0331</td>\n",
       "      <td>87 % avis positifs (7,497 notes)</td>\n",
       "      <td>7497</td>\n",
       "      <td>4.079365</td>\n",
       "      <td>583141fbfef4094e51453d9b</td>\n",
       "      <td>0</td>\n",
       "      <td>NaN</td>\n",
       "      <td>summer</td>\n",
       "      <td>2020-08</td>\n",
       "    </tr>\n",
       "    <tr>\n",
       "      <th>226</th>\n",
       "      <td>8.00</td>\n",
       "      <td>11</td>\n",
       "      <td>EUR</td>\n",
       "      <td>1000</td>\n",
       "      <td>0</td>\n",
       "      <td>4.0</td>\n",
       "      <td>127</td>\n",
       "      <td>0</td>\n",
       "      <td>0</td>\n",
       "      <td>0</td>\n",
       "      <td>...</td>\n",
       "      <td>shitongyi12683626</td>\n",
       "      <td>shitongyi12683626</td>\n",
       "      <td>91 % avis positifs (173 notes)</td>\n",
       "      <td>173</td>\n",
       "      <td>4.306358</td>\n",
       "      <td>5d3bc9f8e13a7e654424a4cb</td>\n",
       "      <td>0</td>\n",
       "      <td>NaN</td>\n",
       "      <td>summer</td>\n",
       "      <td>2020-08</td>\n",
       "    </tr>\n",
       "  </tbody>\n",
       "</table>\n",
       "<p>5 rows × 33 columns</p>\n",
       "</div>"
      ],
      "text/plain": [
       "      price  retail_price currency_buyer  units_sold  uses_ad_boosts  rating  \\\n",
       "id                                                                             \n",
       "272    8.00             7            EUR       10000               1     4.0   \n",
       "1515   8.00             7            EUR        1000               0     4.0   \n",
       "940    6.00            34            EUR         100               0     4.0   \n",
       "309    4.67             4            EUR         100               1     3.0   \n",
       "226    8.00            11            EUR        1000               0     4.0   \n",
       "\n",
       "      rating_count  badges_count  badge_local_product  badge_product_quality  \\\n",
       "id                                                                             \n",
       "272           1670             0                    0                      0   \n",
       "1515           843             1                    1                      0   \n",
       "940             10             0                    0                      0   \n",
       "309             82             0                    0                      0   \n",
       "226            127             0                    0                      0   \n",
       "\n",
       "      ...                         merchant_title      merchant_name  \\\n",
       "id    ...                                                             \n",
       "272   ...                             keepahorse         keepahorse   \n",
       "1515  ...  shanghaimingqidianqikejiyouxiangongsi       上海铭启电气科技有限公司   \n",
       "940   ...                            zhaodongmei        zhaodongmei   \n",
       "309   ...                             pookie0331         pookie0331   \n",
       "226   ...                      shitongyi12683626  shitongyi12683626   \n",
       "\n",
       "                 merchant_info_subtitle merchant_rating_count  \\\n",
       "id                                                              \n",
       "272   88 % avis positifs (66,644 notes)                 66644   \n",
       "1515  91 % avis positifs (25,752 notes)                 25752   \n",
       "940    83 % avis positifs (3,897 notes)                  3897   \n",
       "309    87 % avis positifs (7,497 notes)                  7497   \n",
       "226      91 % avis positifs (173 notes)                   173   \n",
       "\n",
       "      merchant_rating               merchant_id  merchant_has_profile_picture  \\\n",
       "id                                                                              \n",
       "272          4.137582  577fb2b368116418674befd9                             1   \n",
       "1515         4.256873  566a3ef17233ff2686443082                             0   \n",
       "940          3.928920  5aacd6c1ccf0c83e5a6f3de0                             0   \n",
       "309          4.079365  583141fbfef4094e51453d9b                             0   \n",
       "226          4.306358  5d3bc9f8e13a7e654424a4cb                             0   \n",
       "\n",
       "                               merchant_profile_picture   theme  crawl_month  \n",
       "id                                                                            \n",
       "272   https://s3-us-west-1.amazonaws.com/sweeper-pro...  summer      2020-08  \n",
       "1515                                                NaN  summer      2020-08  \n",
       "940                                                 NaN  summer      2020-08  \n",
       "309                                                 NaN  summer      2020-08  \n",
       "226                                                 NaN  summer      2020-08  \n",
       "\n",
       "[5 rows x 33 columns]"
      ]
     },
     "execution_count": 5,
     "metadata": {},
     "output_type": "execute_result"
    }
   ],
   "source": [
    "train_data.head()"
   ]
  },
  {
   "cell_type": "code",
   "execution_count": 6,
   "id": "12164cfe",
   "metadata": {},
   "outputs": [
    {
     "name": "stdout",
     "output_type": "stream",
     "text": [
      "<class 'pandas.core.frame.DataFrame'>\n",
      "Index: 1094 entries, 272 to 1536\n",
      "Data columns (total 33 columns):\n",
      " #   Column                        Non-Null Count  Dtype  \n",
      "---  ------                        --------------  -----  \n",
      " 0   price                         1094 non-null   float64\n",
      " 1   retail_price                  1094 non-null   int64  \n",
      " 2   currency_buyer                1094 non-null   object \n",
      " 3   units_sold                    1094 non-null   int64  \n",
      " 4   uses_ad_boosts                1094 non-null   int64  \n",
      " 5   rating                        1094 non-null   float64\n",
      " 6   rating_count                  1094 non-null   int64  \n",
      " 7   badges_count                  1094 non-null   int64  \n",
      " 8   badge_local_product           1094 non-null   int64  \n",
      " 9   badge_product_quality         1094 non-null   int64  \n",
      " 10  badge_fast_shipping           1094 non-null   int64  \n",
      " 11  tags                          1094 non-null   object \n",
      " 12  product_color                 1065 non-null   object \n",
      " 13  product_variation_size_id     1082 non-null   object \n",
      " 14  product_variation_inventory   1094 non-null   int64  \n",
      " 15  shipping_option_name          1094 non-null   object \n",
      " 16  shipping_option_price         1094 non-null   int64  \n",
      " 17  shipping_is_express           1094 non-null   int64  \n",
      " 18  countries_shipped_to          1094 non-null   int64  \n",
      " 19  inventory_total               1094 non-null   int64  \n",
      " 20  has_urgency_banner            349 non-null    float64\n",
      " 21  urgency_text                  349 non-null    object \n",
      " 22  origin_country                1082 non-null   object \n",
      " 23  merchant_title                1094 non-null   object \n",
      " 24  merchant_name                 1090 non-null   object \n",
      " 25  merchant_info_subtitle        1094 non-null   object \n",
      " 26  merchant_rating_count         1094 non-null   int64  \n",
      " 27  merchant_rating               1094 non-null   float64\n",
      " 28  merchant_id                   1094 non-null   object \n",
      " 29  merchant_has_profile_picture  1094 non-null   int64  \n",
      " 30  merchant_profile_picture      170 non-null    object \n",
      " 31  theme                         1094 non-null   object \n",
      " 32  crawl_month                   1094 non-null   object \n",
      "dtypes: float64(4), int64(15), object(14)\n",
      "memory usage: 290.6+ KB\n"
     ]
    }
   ],
   "source": [
    "train_data.info()"
   ]
  },
  {
   "cell_type": "markdown",
   "id": "3a9b4aa2",
   "metadata": {},
   "source": [
    "### Analysis of train_data.info()\n",
    "\n",
    "- The dataset consists of 1094 entries and 33 columns.\n",
    "- Data types include float64 (4 columns), int64 (16 columns), and object (13 columns).\n",
    "- Several columns contain missing values:\n",
    "  - product_color, product_variation_size_id, origin_country, merchant_name, has_urgency_banner, urgency_text, and merchant_profile_picture.\n",
    "- Notably, the merchant_profile_picture column has a significant number of missing values (170 out of 1094).\n",
    "- Categorical columns are represented as object data type.\n",
    "- Further preprocessing steps may be necessary to handle missing values and encode categorical variables.\n"
   ]
  },
  {
   "cell_type": "markdown",
   "id": "fe87766d",
   "metadata": {},
   "source": [
    "### Dataset Description\n",
    "\n",
    "This dataset contains 33 columns:\n",
    "\n",
    "1. **price**: The price of the product.\n",
    "2. **retail_price**: The retail price of the product.\n",
    "3. **currency_buyer**: The currency used by the buyer.\n",
    "4. **units_sold**: The number of units sold for the product.\n",
    "5. **uses_ad_boosts**: Indicator for whether the listing used ad boosts.\n",
    "6. **rating**: The rating of the product.\n",
    "7. **rating_count**: The number of ratings received by the product.\n",
    "8. **badges_count**: The number of badges associated with the product.\n",
    "9. **badge_local_product**: Indicator for whether the product is local.\n",
    "10. **badge_product_quality**: Indicator for product quality.\n",
    "11. **badge_fast_shipping**: Indicator for fast shipping.\n",
    "12. **tags**: Tags associated with the product.\n",
    "13. **product_color**: The color of the product.\n",
    "14. **product_variation_size_id**: Size variation of the product.\n",
    "15. **product_variation_inventory**: Inventory count for the product variation.\n",
    "16. **shipping_option_name**: Name of the shipping option.\n",
    "17. **shipping_option_price**: Price of the shipping option.\n",
    "18. **shipping_is_express**: Indicator for express shipping.\n",
    "19. **countries_shipped_to**: Number of countries the product ships to.\n",
    "20. **inventory_total**: Total inventory count.\n",
    "21. **has_urgency_banner**: Indicator for the presence of urgency banners.\n",
    "22. **urgency_text**: Text associated with urgency banners.\n",
    "23. **origin_country**: Country of origin for the product.\n",
    "24. **merchant_title**: Title of the merchant.\n",
    "25. **merchant_name**: Name of the merchant.\n",
    "26. **merchant_info_subtitle**: Subtitle of the merchant information.\n",
    "27. **merchant_rating_count**: Number of ratings received by the merchant.\n",
    "28. **merchant_rating**: Rating of the merchant.\n",
    "29. **merchant_id**: ID of the merchant.\n",
    "30. **merchant_has_profile_picture**: Indicator for whether the merchant has a profile picture.\n",
    "31. **merchant_profile_picture**: URL of the merchant's profile picture.\n",
    "32. **theme**: Theme associated with the product.\n",
    "33. **crawl_month**: Month of data crawling.\n",
    "\n",
    "Challenges in this dataset include dealing with missing values, categorical variables, and identifying the most relevant features for predicting the target variable rating.\n",
    "An ideal solution involve thorough preprocessing, feature engineering, and selecting appropriate machine learning algorithms to build predictive models."
   ]
  },
  {
   "cell_type": "code",
   "execution_count": 7,
   "id": "052eedf9",
   "metadata": {
    "scrolled": true
   },
   "outputs": [
    {
     "data": {
      "text/plain": [
       "rating\n",
       "4.0    774\n",
       "5.0    170\n",
       "3.0    135\n",
       "2.0     12\n",
       "1.0      2\n",
       "6.0      1\n",
       "Name: count, dtype: int64"
      ]
     },
     "execution_count": 7,
     "metadata": {},
     "output_type": "execute_result"
    }
   ],
   "source": [
    "train_data[\"rating\"].value_counts()"
   ]
  },
  {
   "cell_type": "markdown",
   "id": "ceb5bafb",
   "metadata": {},
   "source": [
    "### Ratings are in categories from 1 to 5 , so we need to drop 6 and data is biased majorty of calss 4"
   ]
  },
  {
   "cell_type": "code",
   "execution_count": 10,
   "id": "68e739a7",
   "metadata": {},
   "outputs": [],
   "source": [
    "# Filter out-of-range ratings\n",
    "train_data = train_data[(train_data['rating'] >= 1) & (train_data['rating'] <= 5)]\n",
    "df_r= df_r[(df_r['rating'] >= 1) & (df_r['rating'] <= 5)]"
   ]
  },
  {
   "cell_type": "code",
   "execution_count": 13,
   "id": "fb16fed0",
   "metadata": {},
   "outputs": [
    {
     "data": {
      "image/png": "[encoded data removed]",
      "text/plain": [
       "<Figure size 640x480 with 1 Axes>"
      ]
     },
     "metadata": {},
     "output_type": "display_data"
    }
   ],
   "source": [
    "plt.bar(train_data[\"rating\"].value_counts().index, train_data[\"rating\"].value_counts());\n",
    "plt.title(\"Target Distribution\")\n",
    "plt.xlabel(\"Target\")\n",
    "plt.ylabel(\"Count\")\n",
    "plt.show();"
   ]
  },
  {
   "cell_type": "code",
   "execution_count": 14,
   "id": "78e0f141",
   "metadata": {},
   "outputs": [
    {
     "data": {
      "text/plain": [
       "True"
      ]
     },
     "execution_count": 14,
     "metadata": {},
     "output_type": "execute_result"
    }
   ],
   "source": [
    "##check for duplicate\n",
    "train_data.duplicated().any()"
   ]
  },
  {
   "cell_type": "code",
   "execution_count": 15,
   "id": "383a6fd0",
   "metadata": {},
   "outputs": [
    {
     "data": {
      "text/plain": [
       "False    1080\n",
       "True       13\n",
       "Name: count, dtype: int64"
      ]
     },
     "execution_count": 15,
     "metadata": {},
     "output_type": "execute_result"
    }
   ],
   "source": [
    "train_data.duplicated().value_counts()"
   ]
  },
  {
   "cell_type": "code",
   "execution_count": 16,
   "id": "602a30e5",
   "metadata": {},
   "outputs": [
    {
     "name": "stdout",
     "output_type": "stream",
     "text": [
      "False\n"
     ]
    }
   ],
   "source": [
    "# Remove duplicate rows from the training data\n",
    "train_data = train_data.drop_duplicates()\n",
    "# Check if duplicates are removed\n",
    "print(train_data.duplicated().any())  # Should return False"
   ]
  },
  {
   "cell_type": "code",
   "execution_count": 17,
   "id": "b96f5c2c",
   "metadata": {},
   "outputs": [
    {
     "name": "stdout",
     "output_type": "stream",
     "text": [
      "price                             0\n",
      "retail_price                      0\n",
      "currency_buyer                    0\n",
      "units_sold                        0\n",
      "uses_ad_boosts                    0\n",
      "rating                            0\n",
      "rating_count                      0\n",
      "badges_count                      0\n",
      "badge_local_product               0\n",
      "badge_product_quality             0\n",
      "badge_fast_shipping               0\n",
      "tags                              0\n",
      "product_color                    29\n",
      "product_variation_size_id        12\n",
      "product_variation_inventory       0\n",
      "shipping_option_name              0\n",
      "shipping_option_price             0\n",
      "shipping_is_express               0\n",
      "countries_shipped_to              0\n",
      "inventory_total                   0\n",
      "has_urgency_banner              731\n",
      "urgency_text                    731\n",
      "origin_country                   11\n",
      "merchant_title                    0\n",
      "merchant_name                     4\n",
      "merchant_info_subtitle            0\n",
      "merchant_rating_count             0\n",
      "merchant_rating                   0\n",
      "merchant_id                       0\n",
      "merchant_has_profile_picture      0\n",
      "merchant_profile_picture        911\n",
      "theme                             0\n",
      "crawl_month                       0\n",
      "dtype: int64\n"
     ]
    }
   ],
   "source": [
    "print(train_data.isnull().sum())"
   ]
  },
  {
   "cell_type": "markdown",
   "id": "d803e8f6",
   "metadata": {},
   "source": [
    "### The output shows Numerical Features: There are no missing values in numerical features."
   ]
  },
  {
   "cell_type": "markdown",
   "id": "07f08115",
   "metadata": {},
   "source": [
    "### The output shows the number of null values Categorical Features  for each column in the dataset.\n",
    "\n",
    "- **product_color**: There are 29 null values in the \"product_color\" column. This means that 29 entries in the dataset do not have a specified color for the product.\n",
    "\n",
    "- **product_variation_size_id**: There are 12 null values in the \"product_variation_size_id\" column. This indicates that 12 entries in the dataset do not have a specified size variation for the product.\n",
    "\n",
    "- **has_urgency_banner**: There are 745 null values in the \"has_urgency_banner\" column. This suggests that 745 entries in the dataset do not have an urgency banner.\n",
    "\n",
    "- **urgency_text**: Similarly, there are 745 null values in the \"urgency_text\" column. This implies that 745 entries in the dataset do not have any urgency text associated with them.\n",
    "\n",
    "- **origin_country**: There are 12 null values in the \"origin_country\" column. This indicates that 12 entries in the dataset do not have a specified origin country for the product.\n",
    "\n",
    "- **merchant_name**: There are 4 null values in the \"merchant_name\" column. This means that 4 entries in the dataset do not have a specified name for the merchant/seller.\n",
    "\n",
    "- **merchant_profile_picture**: There are 924 null values in the \"merchant_profile_picture\" column. This suggests that 924 entries in the dataset do not have a profile picture associated with the merchant.\n"
   ]
  },
  {
   "cell_type": "markdown",
   "id": "960865f7",
   "metadata": {},
   "source": [
    "### Exploring unique values for each categorical feature can give us insight into the nature of the data and help us make informed decisions "
   ]
  },
  {
   "cell_type": "code",
   "execution_count": 18,
   "id": "283533f6",
   "metadata": {},
   "outputs": [
    {
     "name": "stdout",
     "output_type": "stream",
     "text": [
      "['yellow' 'black' 'white' 'lakeblue' 'apricot' 'brown' 'winered' 'blue'\n",
      " 'red' 'navyblue' 'green' 'khaki' 'White' 'white & green' 'multicolor'\n",
      " 'lightpink' 'pink' 'RED' 'armygreen' 'lightblue' nan 'coffee' 'grey'\n",
      " 'skyblue' 'watermelonred' 'pink & black' 'whitefloral' 'purple' 'navy'\n",
      " 'pink & white' 'rosered' 'orange' 'Black' 'mintgreen' 'leopardprint'\n",
      " 'gray' 'navy blue' 'star' 'rose' 'lightyellow' 'camouflage'\n",
      " 'black & yellow' 'whitestripe' 'navyblue & white' 'black & blue'\n",
      " 'lightred' 'violet' 'gold' 'black & green' 'white & black' 'burgundy'\n",
      " 'black & white' 'lightgrey' 'coolblack' 'lightgreen' 'beige' 'darkblue'\n",
      " 'darkgreen' 'silver' 'wine red' 'Army green' 'pink & blue' 'rainbow'\n",
      " 'claret' 'floral' 'brown & yellow' 'light green' 'Pink' 'blue & pink'\n",
      " 'dustypink' 'camel' 'orange-red' 'rosegold' 'ivory' 'fluorescentgreen'\n",
      " 'winered & yellow' 'offwhite' 'lightgray' 'wine' 'army' 'applegreen'\n",
      " 'nude' 'pink & grey' 'denimblue' 'blackwhite' 'Blue' 'leopard']\n"
     ]
    }
   ],
   "source": [
    "print(train_data['product_color'].unique())"
   ]
  },
  {
   "cell_type": "code",
   "execution_count": 19,
   "id": "765f6620",
   "metadata": {},
   "outputs": [
    {
     "data": {
      "text/plain": [
       "product_color\n",
       "black             218\n",
       "white             169\n",
       "blue               77\n",
       "yellow             69\n",
       "pink               68\n",
       "                 ... \n",
       "rainbow             1\n",
       "claret              1\n",
       "whitestripe         1\n",
       "light green         1\n",
       "brown & yellow      1\n",
       "Name: count, Length: 86, dtype: int64"
      ]
     },
     "execution_count": 19,
     "metadata": {},
     "output_type": "execute_result"
    }
   ],
   "source": [
    "train_data['product_color'].value_counts()"
   ]
  },
  {
   "cell_type": "markdown",
   "id": "d9770d44",
   "metadata": {},
   "source": [
    "we need to analyze the unique feature of product colors and convert them to base colors:\n",
    "\n",
    "1. **Group Similar Colors:** Group similar colors together based on their visual appearance.\n",
    "\n",
    "2. **Map to Base Colors:** Create a mapping dictionary where each unique color is mapped to its corresponding base color. \n",
    "\n",
    "3. **Apply Mapping:** Use the mapping dictionary to convert each unique color to its base color in the dataset.\n",
    "\n",
    "4. **Analyze Distribution:** After converting the colors, analyze the distribution of products based on their base colors. This will provide insights into the prevalence of different colors in the dataset.\n",
    "\n",
    "5. **Visualize Results:** Visualize the distribution of products by base color using plots such as bar charts or pie charts. This will help in understanding the overall color composition of the dataset.\n"
   ]
  },
  {
   "cell_type": "code",
   "execution_count": 20,
   "id": "5bc957e1",
   "metadata": {},
   "outputs": [],
   "source": [
    "#  replace colors with base names\n",
    "def map_product_colors(train_data, col):\n",
    "    color_mapping = {\n",
    "        'lightblue': 'blue', 'skyblue': 'blue', 'lakeblue': 'blue', 'navyblue': 'blue', 'darkblue': 'blue',\n",
    "        'winered': 'red', 'wine red': 'red', 'rosered': 'red', 'watermelonred': 'red', 'rose red': 'red',\n",
    "        'orange-red': 'red', 'burgundy': 'red', 'coralred': 'red', 'claret': 'red',\n",
    "        'lightgreen': 'green', 'mintgreen': 'green', 'armygreen': 'green', 'applegreen': 'green',\n",
    "        'fluorescentgreen': 'green', 'light green': 'green', 'Army green': 'green',\n",
    "        'lightyellow': 'yellow', 'lemonyellow': 'yellow',\n",
    "        'lightpink': 'pink', 'dustypink': 'pink', 'Rose red': 'pink', 'pink & grey': 'pink',\n",
    "        'lightgray': 'grey', 'lightgrey': 'grey', 'darkgrey': 'grey', 'silver': 'grey',\n",
    "        'black & white': 'black', 'black & yellow': 'black', 'black & green': 'black','Black' : 'black',\n",
    "        'black & blue': 'black', 'blackwhite': 'black', 'coolblack': 'black',\n",
    "        'whitestripe': 'white', 'offwhite': 'white', 'ivory': 'white',\n",
    "        'army': 'brown', 'coffee': 'brown', 'camel': 'brown', 'beige': 'brown','khaki': 'brown',\n",
    "        'multicolor': 'other', 'star': 'other', 'rainbow': 'other', 'leopardprint': 'other', 'floral': 'other'\n",
    "    }\n",
    "\n",
    "    for k, v in color_mapping.items():\n",
    "         train_data[col].replace(k, v, inplace=True)\n",
    "\n",
    "    colors_count = train_data[col].value_counts()\n",
    "    # Select the values where the count is less than 5 \n",
    "    to_change = colors_count[colors_count <= 8].index\n",
    "    train_data.loc[train_data[col].isin(to_change), col] = \"Other\""
   ]
  },
  {
   "cell_type": "code",
   "execution_count": 21,
   "id": "9b219629",
   "metadata": {},
   "outputs": [
    {
     "name": "stderr",
     "output_type": "stream",
     "text": [
      "C:\\Users\\smart fix\\AppData\\Local\\Temp\\ipykernel_8356\\129043910.py:20: SettingWithCopyWarning: \n",
      "A value is trying to be set on a copy of a slice from a DataFrame\n",
      "\n",
      "See the caveats in the documentation: https://pandas.pydata.org/pandas-docs/stable/user_guide/indexing.html#returning-a-view-versus-a-copy\n",
      "  train_data[col].replace(k, v, inplace=True)\n"
     ]
    }
   ],
   "source": [
    "map_product_colors(train_data, 'product_color')\n",
    "map_product_colors(test_data, 'product_color')\n",
    "map_product_colors(df_r, 'product_color')\n",
    "map_product_colors(df_t, 'product_color')"
   ]
  },
  {
   "cell_type": "code",
   "execution_count": 24,
   "id": "62a0c840",
   "metadata": {},
   "outputs": [
    {
     "data": {
      "text/plain": [
       "product_color\n",
       "black     234\n",
       "white     172\n",
       "blue      114\n",
       "red        91\n",
       "green      91\n",
       "pink       75\n",
       "yellow     70\n",
       "Other      55\n",
       "grey       50\n",
       "purple     37\n",
       "brown      27\n",
       "other      19\n",
       "orange     16\n",
       "Name: count, dtype: int64"
      ]
     },
     "execution_count": 24,
     "metadata": {},
     "output_type": "execute_result"
    }
   ],
   "source": [
    "train_data['product_color'].value_counts()"
   ]
  },
  {
   "cell_type": "code",
   "execution_count": 25,
   "id": "73d1369e",
   "metadata": {},
   "outputs": [
    {
     "data": {
      "image/png": "[encoded data removed]",
      "text/plain": [
       "<Figure size 1000x600 with 1 Axes>"
      ]
     },
     "metadata": {},
     "output_type": "display_data"
    }
   ],
   "source": [
    "# Get the value counts of base colors\n",
    "base_color_counts = train_data['product_color'].value_counts()\n",
    "# Plotting the distribution of base colors\n",
    "plt.figure(figsize=(10, 6))\n",
    "base_color_counts.plot(kind='bar', color='skyblue')\n",
    "plt.title('Distribution of Base Colors')\n",
    "plt.xlabel('Base Color')\n",
    "plt.ylabel('Count')\n",
    "plt.xticks(rotation=45)\n",
    "plt.show()\n"
   ]
  },
  {
   "cell_type": "markdown",
   "id": "4e8806ec",
   "metadata": {},
   "source": [
    "- **Black**: It appears to be the most common color among the products, with 234 occurrences.\n",
    "- **White**: White-colored products are also quite common, with 172 occurrences.\n",
    "- **Red, Blue, Green, and Pink**: These colors have moderate occurrences, ranging from 98 to 129 occurrences.\n",
    "- **Yellow, Grey, Brown, and Orange**: These colors are less common, with occurrences ranging from 11 to 72."
   ]
  },
  {
   "cell_type": "markdown",
   "id": "85e37b0c",
   "metadata": {},
   "source": [
    "**Analysis of Product Colors**\n",
    "\n",
    "- **Popular Colors**: The analysis reveals that black and white are the most prevalent colors in the dataset,These colors seem to be widely favored by both sellers and buyers.\n",
    "\n",
    "- **Color Variety**: Despite the dominance of black and white, there is a diverse range of colors represented in the dataset. Red, blue, green, pink, and yellow all have a significant number of products associated with them, indicating varied color preferences among consumers.\n",
    "\n",
    "- **Less Common Colors**: Colors such as grey, brown, and orange appear less frequently, with only 57, 27, and 16 occurrences, respectively. These colors may cater to niche markets or specific product categories.\n",
    "\n",
    "- **Other Category**: The \"other\" category includes colors that are less commonly observed in the dataset, suggesting uniqueness or novelty in these products.\n",
    "\n",
    "- **Color Influence**: The distribution of product colors provides insights into consumer preferences and market trends. Businesses can leverage this information to align their product offerings with popular color choices, potentially attracting more customers.\n",
    "\n",
    "Overall, analyzing product colors offers valuable insights for businesses in e-commerce, guiding decisions related to product design, marketing strategies, and inventory management.\n"
   ]
  },
  {
   "cell_type": "code",
   "execution_count": 26,
   "id": "d881e7ce",
   "metadata": {},
   "outputs": [
    {
     "data": {
      "text/plain": [
       "array(['M', 'L', 'XS', 'S', 'XL', '26(Waist 72cm 28inch)', 'S.',\n",
       "       'S(bust 88cm)', 'XXS', 's', '29', nan, 'choose a size', 'XXXS',\n",
       "       'Base Coat', 'Size M', 'XXL', 'M.', 'XS.',\n",
       "       '100 x 100cm(39.3 x 39.3inch)', '2pcs', '4XL', '1', '25-S',\n",
       "       'Size-XXS', '5PAIRS', '35', 'Pack of 1', 'Size S', 'Size-S', '6XL',\n",
       "       '25', 'S/M(child)', '60', 'Size-XS', 'S (waist58-62cm)',\n",
       "       'SIZE XXS', '10 ml', 'X   L', 'Women Size 36', '04-3XL',\n",
       "       'Size -XXS', '1 pc.', 'Floating Chair for Kid', 'S Pink', '34',\n",
       "       'US-S', 'Size XXS', 'pants-S', 'XXXXL', 'SIZE-XXS', 'SIZE XS',\n",
       "       '1pc', 'Size S.', '100 cm', 'S..', 'Round', '4-5 Years', '5', '33',\n",
       "       '30 cm', '2', 'XXXXXL', '20PCS-10PAIRS', '2XL', 'Size-5XL',\n",
       "       'Size4XL', 'One Size', 'size S', 'Size/S', 'B', 'SizeL', '20pcs',\n",
       "       '1 PC - XL', 'Suit-S', 'Base & Top & Matte Top Coat',\n",
       "       'Baby Float Boat', '1m by 3m', 'SIZE S', 'White', '40 cm', '5XL',\n",
       "       '10pcs', 'H01'], dtype=object)"
      ]
     },
     "execution_count": 26,
     "metadata": {},
     "output_type": "execute_result"
    }
   ],
   "source": [
    "train_data['product_variation_size_id'].unique()"
   ]
  },
  {
   "cell_type": "code",
   "execution_count": 27,
   "id": "2de37b98",
   "metadata": {},
   "outputs": [],
   "source": [
    "def clean_product_size(train_data, c):\n",
    "    train_data[c].replace(['S', 'S.', 's', 'Size S', 'Size-S', 'Size S.', 'Suit-S', 'size S','S Pink', 'pants-S', 'US-S', 'SIZE S', 'S (waist58-62cm)', 'Size--S', '25-S', 'Size/S', 'S Diameter 30cm', 'S..', 'S(Pink & Black)'], 'S', inplace=True)\n",
    "    train_data[c].replace(['XS', 'XS.', 'SIZE XS', 'Size-XS'], 'XS', inplace=True)\n",
    "    train_data[c].replace(['XXS', 'XXXS', 'SIZE-XXS', 'Size -XXS', 'Size XXS', 'Size-XXS', 'SIZE XXS'], 'XXS+', inplace=True)\n",
    "    train_data[c].replace(['M', 'M.', 'Size M'], 'M', inplace=True)\n",
    "    train_data[c].replace(['L', 'SizeL', '32/L', 'L.', 'Size-L'], 'L', inplace=True)\n",
    "    train_data[c].replace(['XL', '2XL', '1 PC - XL', 'X   L'], 'XL', inplace=True)\n",
    "    train_data[c].replace(['XXL', '4XL', '2XL', 'Size4XL', '3XL', 'XXXXXL', '1 PC - XL', 'SIZE-4XL', '04-3XL', 'Size-5XL', 'XXXXL', '5XL', 'XXXL'], 'XXL+', inplace=True)\n",
    "    size_counts = train_data[c].value_counts()\n",
    "    # Select the values where the count is less than 5 \n",
    "    to_change = size_counts[size_counts <= 5].index\n",
    "    train_data.loc[train_data[c].isin(to_change), c] = \"Other\""
   ]
  },
  {
   "cell_type": "code",
   "execution_count": 28,
   "id": "4a6ddf72",
   "metadata": {},
   "outputs": [
    {
     "data": {
      "text/plain": [
       "product_variation_size_id\n",
       "S           441\n",
       "XS          244\n",
       "M           135\n",
       "XXS          71\n",
       "L            29\n",
       "           ... \n",
       "Size XXS      1\n",
       "pants-S       1\n",
       "XXXXL         1\n",
       "SIZE-XXS      1\n",
       "H01           1\n",
       "Name: count, Length: 83, dtype: int64"
      ]
     },
     "execution_count": 28,
     "metadata": {},
     "output_type": "execute_result"
    }
   ],
   "source": [
    "train_data['product_variation_size_id'].value_counts()"
   ]
  },
  {
   "cell_type": "code",
   "execution_count": 29,
   "id": "6e6196ae",
   "metadata": {
    "collapsed": true
   },
   "outputs": [
    {
     "name": "stderr",
     "output_type": "stream",
     "text": [
      "C:\\Users\\smart fix\\AppData\\Local\\Temp\\ipykernel_8356\\2447763134.py:2: SettingWithCopyWarning: \n",
      "A value is trying to be set on a copy of a slice from a DataFrame\n",
      "\n",
      "See the caveats in the documentation: https://pandas.pydata.org/pandas-docs/stable/user_guide/indexing.html#returning-a-view-versus-a-copy\n",
      "  train_data[c].replace(['S', 'S.', 's', 'Size S', 'Size-S', 'Size S.', 'Suit-S', 'size S','S Pink', 'pants-S', 'US-S', 'SIZE S', 'S (waist58-62cm)', 'Size--S', '25-S', 'Size/S', 'S Diameter 30cm', 'S..', 'S(Pink & Black)'], 'S', inplace=True)\n",
      "C:\\Users\\smart fix\\AppData\\Local\\Temp\\ipykernel_8356\\2447763134.py:3: SettingWithCopyWarning: \n",
      "A value is trying to be set on a copy of a slice from a DataFrame\n",
      "\n",
      "See the caveats in the documentation: https://pandas.pydata.org/pandas-docs/stable/user_guide/indexing.html#returning-a-view-versus-a-copy\n",
      "  train_data[c].replace(['XS', 'XS.', 'SIZE XS', 'Size-XS'], 'XS', inplace=True)\n",
      "C:\\Users\\smart fix\\AppData\\Local\\Temp\\ipykernel_8356\\2447763134.py:4: SettingWithCopyWarning: \n",
      "A value is trying to be set on a copy of a slice from a DataFrame\n",
      "\n",
      "See the caveats in the documentation: https://pandas.pydata.org/pandas-docs/stable/user_guide/indexing.html#returning-a-view-versus-a-copy\n",
      "  train_data[c].replace(['XXS', 'XXXS', 'SIZE-XXS', 'Size -XXS', 'Size XXS', 'Size-XXS', 'SIZE XXS'], 'XXS+', inplace=True)\n",
      "C:\\Users\\smart fix\\AppData\\Local\\Temp\\ipykernel_8356\\2447763134.py:5: SettingWithCopyWarning: \n",
      "A value is trying to be set on a copy of a slice from a DataFrame\n",
      "\n",
      "See the caveats in the documentation: https://pandas.pydata.org/pandas-docs/stable/user_guide/indexing.html#returning-a-view-versus-a-copy\n",
      "  train_data[c].replace(['M', 'M.', 'Size M'], 'M', inplace=True)\n",
      "C:\\Users\\smart fix\\AppData\\Local\\Temp\\ipykernel_8356\\2447763134.py:6: SettingWithCopyWarning: \n",
      "A value is trying to be set on a copy of a slice from a DataFrame\n",
      "\n",
      "See the caveats in the documentation: https://pandas.pydata.org/pandas-docs/stable/user_guide/indexing.html#returning-a-view-versus-a-copy\n",
      "  train_data[c].replace(['L', 'SizeL', '32/L', 'L.', 'Size-L'], 'L', inplace=True)\n",
      "C:\\Users\\smart fix\\AppData\\Local\\Temp\\ipykernel_8356\\2447763134.py:7: SettingWithCopyWarning: \n",
      "A value is trying to be set on a copy of a slice from a DataFrame\n",
      "\n",
      "See the caveats in the documentation: https://pandas.pydata.org/pandas-docs/stable/user_guide/indexing.html#returning-a-view-versus-a-copy\n",
      "  train_data[c].replace(['XL', '2XL', '1 PC - XL', 'X   L'], 'XL', inplace=True)\n",
      "C:\\Users\\smart fix\\AppData\\Local\\Temp\\ipykernel_8356\\2447763134.py:8: SettingWithCopyWarning: \n",
      "A value is trying to be set on a copy of a slice from a DataFrame\n",
      "\n",
      "See the caveats in the documentation: https://pandas.pydata.org/pandas-docs/stable/user_guide/indexing.html#returning-a-view-versus-a-copy\n",
      "  train_data[c].replace(['XXL', '4XL', '2XL', 'Size4XL', '3XL', 'XXXXXL', '1 PC - XL', 'SIZE-4XL', '04-3XL', 'Size-5XL', 'XXXXL', '5XL', 'XXXL'], 'XXL+', inplace=True)\n"
     ]
    }
   ],
   "source": [
    "clean_product_size(train_data, 'product_variation_size_id')\n",
    "clean_product_size(test_data, 'product_variation_size_id')\n",
    "clean_product_size(df_r, 'product_variation_size_id')\n",
    "clean_product_size(df_t, 'product_variation_size_id')"
   ]
  },
  {
   "cell_type": "code",
   "execution_count": 30,
   "id": "3b4993c6",
   "metadata": {},
   "outputs": [
    {
     "data": {
      "text/plain": [
       "product_variation_size_id\n",
       "S        476\n",
       "XS       254\n",
       "M        141\n",
       "XXS+      82\n",
       "Other     45\n",
       "L         31\n",
       "XXL+      22\n",
       "XL        17\n",
       "Name: count, dtype: int64"
      ]
     },
     "execution_count": 30,
     "metadata": {},
     "output_type": "execute_result"
    }
   ],
   "source": [
    "train_data['product_variation_size_id'].value_counts()"
   ]
  },
  {
   "cell_type": "code",
   "execution_count": 31,
   "id": "89abfbfe",
   "metadata": {},
   "outputs": [
    {
     "data": {
      "text/plain": [
       "<Axes: xlabel='product_variation_size_id', ylabel='count'>"
      ]
     },
     "execution_count": 31,
     "metadata": {},
     "output_type": "execute_result"
    },
    {
     "data": {
      "image/png": "[encoded data removed]",
      "text/plain": [
       "<Figure size 640x480 with 1 Axes>"
      ]
     },
     "metadata": {},
     "output_type": "display_data"
    }
   ],
   "source": [
    "# Get the ordered value counts of product variation sizes\n",
    "ordered_sizes = train_data['product_variation_size_id'].value_counts().index\n",
    "# Plot the count of each size in order\n",
    "sns.countplot(data=train_data, x='product_variation_size_id', order=ordered_sizes)"
   ]
  },
  {
   "cell_type": "markdown",
   "id": "6ce66bf6",
   "metadata": {},
   "source": [
    "### Analysis of Product Variation Size\n",
    "\n",
    "The product_variation_size_id column represents the sizes of various products. After cleaning and categorizing the sizes, the following distribution is observed:\n",
    "\n",
    "- **S**: 476 products\n",
    "- **XS**: 258 products\n",
    "- **M**: 141 products\n",
    "- **XXS+**: 87 products\n",
    "- **Other**: 46 products (This category includes sizes with counts less than or equal to 5, which were grouped together as 'Other'.)\n",
    "- **L**: 31 products\n",
    "- **XXL+**: 23 products\n",
    "- **XL**: 17 products\n",
    "\n",
    "This analysis shows the distribution of product sizes in the dataset after cleaning and categorization. The majority of products fall into the 'S', 'XS', and 'M' size categories, while larger sizes such as 'L', 'XXL+', and 'XL' have fewer representations. Additionally, there are several products categorized as 'Other', which include less common sizes.\n"
   ]
  },
  {
   "cell_type": "code",
   "execution_count": 17,
   "id": "664b819e",
   "metadata": {},
   "outputs": [],
   "source": [
    "train_data[\"product_color\"].fillna(train_data[\"product_color\"].mode()[0], inplace=True)\n",
    "train_data[\"product_variation_size_id\"].fillna(train_data[\"product_variation_size_id\"].mode()[0], inplace=True)\n",
    "train_data[\"origin_country\"].fillna(train_data[\"origin_country\"].mode()[0], inplace=True)"
   ]
  },
  {
   "cell_type": "code",
   "execution_count": 32,
   "id": "48f88e90",
   "metadata": {},
   "outputs": [],
   "source": [
    "df_r[\"product_color\"].fillna(df_r[\"product_color\"].mode()[0], inplace=True)\n",
    "df_r[\"product_variation_size_id\"].fillna(df_r[\"product_variation_size_id\"].mode()[0], inplace=True)\n",
    "df_r[\"origin_country\"].fillna(df_r[\"origin_country\"].mode()[0], inplace=True)"
   ]
  },
  {
   "cell_type": "code",
   "execution_count": 33,
   "id": "87afb6b5",
   "metadata": {},
   "outputs": [],
   "source": [
    "test_data[\"product_color\"].fillna(test_data[\"product_color\"].mode()[0], inplace=True)\n",
    "test_data[\"product_variation_size_id\"].fillna(test_data[\"product_variation_size_id\"].mode()[0], inplace=True)\n",
    "test_data[\"origin_country\"].fillna(test_data[\"origin_country\"].mode()[0], inplace=True)"
   ]
  },
  {
   "cell_type": "code",
   "execution_count": 34,
   "id": "b699ac59",
   "metadata": {},
   "outputs": [],
   "source": [
    "df_t[\"product_color\"].fillna(df_t[\"product_color\"].mode()[0], inplace=True)\n",
    "df_t[\"product_variation_size_id\"].fillna(df_t[\"product_variation_size_id\"].mode()[0], inplace=True)\n",
    "df_t[\"origin_country\"].fillna(df_t[\"origin_country\"].mode()[0], inplace=True)"
   ]
  },
  {
   "cell_type": "code",
   "execution_count": 35,
   "id": "63a9be9e",
   "metadata": {},
   "outputs": [
    {
     "data": {
      "image/png": "[encoded data removed]",
      "text/plain": [
       "<Figure size 1200x600 with 1 Axes>"
      ]
     },
     "metadata": {},
     "output_type": "display_data"
    }
   ],
   "source": [
    "# Set the style of the seaborn plot\n",
    "sns.set_style(\"whitegrid\")\n",
    "# Create the box plot\n",
    "plt.figure(figsize=(12, 6))\n",
    "sns.boxplot(data=train_data, x='product_variation_size_id', y='units_sold')\n",
    "plt.title('Units Sold by Product Size')\n",
    "plt.xlabel('Product Size')\n",
    "plt.ylabel('Units Sold')\n",
    "plt.xticks(rotation=45)  # Rotate x-axis labels for better readability\n",
    "plt.show()\n"
   ]
  },
  {
   "cell_type": "markdown",
   "id": "cb9b0c59",
   "metadata": {},
   "source": [
    "the analysis of the relationship between 'units_sold' and 'product_variation_size_id':\n",
    "\n",
    "- **Size 'S'**: This size has the highest median number of units sold, indicating that products with size 'S' tend to sell more compared to other sizes.\n",
    "- **Size 'XS'**: It also shows a relatively high median number of units sold, although slightly lower than 'S'.\n",
    "- **Sizes 'M', 'L', and 'XXS+'**: These sizes have similar median values, suggesting moderate sales performance.\n",
    "- **'Other' category**: This category likely includes less common sizes or sizes with limited data. It shows a wide range of sales performance, with some outliers indicating both high and low sales numbers.\n",
    "\n",
    "Overall, there is variation in sales performance across different product sizes, with 'S' and 'XS' sizes generally performing better than others. \n"
   ]
  },
  {
   "cell_type": "code",
   "execution_count": 36,
   "id": "5ef88ebc",
   "metadata": {
    "scrolled": true
   },
   "outputs": [
    {
     "data": {
      "text/html": [
       "<div>\n",
       "<style scoped>\n",
       "    .dataframe tbody tr th:only-of-type {\n",
       "        vertical-align: middle;\n",
       "    }\n",
       "\n",
       "    .dataframe tbody tr th {\n",
       "        vertical-align: top;\n",
       "    }\n",
       "\n",
       "    .dataframe thead th {\n",
       "        text-align: right;\n",
       "    }\n",
       "</style>\n",
       "<table border=\"1\" class=\"dataframe\">\n",
       "  <thead>\n",
       "    <tr style=\"text-align: right;\">\n",
       "      <th></th>\n",
       "      <th>count</th>\n",
       "    </tr>\n",
       "    <tr>\n",
       "      <th>origin_country</th>\n",
       "      <th></th>\n",
       "    </tr>\n",
       "  </thead>\n",
       "  <tbody>\n",
       "    <tr>\n",
       "      <th>CN</th>\n",
       "      <td>1041</td>\n",
       "    </tr>\n",
       "    <tr>\n",
       "      <th>US</th>\n",
       "      <td>22</td>\n",
       "    </tr>\n",
       "    <tr>\n",
       "      <th>VE</th>\n",
       "      <td>3</td>\n",
       "    </tr>\n",
       "    <tr>\n",
       "      <th>SG</th>\n",
       "      <td>2</td>\n",
       "    </tr>\n",
       "    <tr>\n",
       "      <th>GB</th>\n",
       "      <td>1</td>\n",
       "    </tr>\n",
       "  </tbody>\n",
       "</table>\n",
       "</div>"
      ],
      "text/plain": [
       "                count\n",
       "origin_country       \n",
       "CN               1041\n",
       "US                 22\n",
       "VE                  3\n",
       "SG                  2\n",
       "GB                  1"
      ]
     },
     "execution_count": 36,
     "metadata": {},
     "output_type": "execute_result"
    }
   ],
   "source": [
    "train_data['origin_country'].value_counts().to_frame()"
   ]
  },
  {
   "cell_type": "code",
   "execution_count": 37,
   "id": "3a30bcf8",
   "metadata": {},
   "outputs": [
    {
     "data": {
      "text/plain": [
       "<Axes: xlabel='origin_country', ylabel='count'>"
      ]
     },
     "execution_count": 37,
     "metadata": {},
     "output_type": "execute_result"
    },
    {
     "data": {
      "image/png": "[encoded data removed]",
      "text/plain": [
       "<Figure size 640x480 with 1 Axes>"
      ]
     },
     "metadata": {},
     "output_type": "display_data"
    }
   ],
   "source": [
    "sns.countplot(data=train_data, x='origin_country')"
   ]
  },
  {
   "cell_type": "markdown",
   "id": "ec037809",
   "metadata": {},
   "source": [
    "### Origin Country Analysis Summary:\n",
    "\n",
    "- **China (CN):** Dominates the dataset with 1054 entries, indicating a significant sourcing presence. This suggests a strong partnership with Chinese manufacturers, highlighting China's importance as a primary supplier for Wish.com.\n",
    "\n",
    "- **United States (US):** Represents a smaller proportion with 22 entries, implying a diverse range of products or niche offerings sourced from the US. While fewer in number, these products may cater to specific market segments or offer higher-quality options.\n",
    "\n",
    "- **Venezuela (VE), Singapore (SG), and United Kingdom (GB):** Each country has minimal representation in the dataset, with only a few entries. This indicates limited sourcing partnerships or niche market targeting in these regions.\n",
    "\n",
    "- **Insights:** Analyzing the distribution of product origins provides valuable insights into sourcing strategies, market dynamics, and potential biases. It helps in understanding the geographical diversity of products offered on Wish.com and can inform decisions related to supply chain management and international trade relationships.\n"
   ]
  },
  {
   "cell_type": "code",
   "execution_count": 38,
   "id": "f8a2f0ab",
   "metadata": {},
   "outputs": [
    {
     "data": {
      "image/png": "[encoded data removed]",
      "text/plain": [
       "<Figure size 1200x800 with 1 Axes>"
      ]
     },
     "metadata": {},
     "output_type": "display_data"
    }
   ],
   "source": [
    "origin_countries = train_data['origin_country'].unique()\n",
    "\n",
    "# Plot histograms for each origin country\n",
    "plt.figure(figsize=(12, 8))\n",
    "for country in origin_countries:\n",
    "    plt.hist(train_data[train_data['origin_country'] == country]['rating'],\n",
    "             bins=10, alpha=0.5, label=country)\n",
    "\n",
    "plt.title('Distribution of Ratings for Each Origin Country')\n",
    "plt.xlabel('Rating')\n",
    "plt.ylabel('Frequency')\n",
    "plt.legend()\n",
    "plt.grid(True)\n",
    "plt.show()"
   ]
  },
  {
   "cell_type": "code",
   "execution_count": 39,
   "id": "dd897ce6",
   "metadata": {},
   "outputs": [
    {
     "data": {
      "text/plain": [
       "uses_ad_boosts\n",
       "0    610\n",
       "1    470\n",
       "Name: count, dtype: int64"
      ]
     },
     "execution_count": 39,
     "metadata": {},
     "output_type": "execute_result"
    }
   ],
   "source": [
    "train_data['uses_ad_boosts'].value_counts()"
   ]
  },
  {
   "cell_type": "markdown",
   "id": "3e4dc3b1",
   "metadata": {},
   "source": [
    "The provided result shows the count of products with and without the use of ad boosts:\n",
    "Products without ad boosts: 620\n",
    "Products with ad boosts: 473"
   ]
  },
  {
   "cell_type": "code",
   "execution_count": 40,
   "id": "c24cf015",
   "metadata": {},
   "outputs": [
    {
     "data": {
      "text/plain": [
       "merchant_name\n",
       "greatexpectationstechnology              8\n",
       "广州唯适唯服饰有限公司                              7\n",
       "shuilingjiaointernationaltradecompany    6\n",
       "smarthomeinternationalcoltd              6\n",
       "fengjinying                              6\n",
       "                                        ..\n",
       "hehaiyan                                 1\n",
       "wwenliping                               1\n",
       "yourvogue                                1\n",
       "caohongbo                                1\n",
       "oiug56465                                1\n",
       "Name: count, Length: 745, dtype: int64"
      ]
     },
     "execution_count": 40,
     "metadata": {},
     "output_type": "execute_result"
    }
   ],
   "source": [
    "train_data['merchant_name'].value_counts()"
   ]
  },
  {
   "cell_type": "code",
   "execution_count": 41,
   "id": "7f3915dd",
   "metadata": {},
   "outputs": [
    {
     "data": {
      "image/png": "[encoded data removed]",
      "text/plain": [
       "<Figure size 800x600 with 1 Axes>"
      ]
     },
     "metadata": {},
     "output_type": "display_data"
    }
   ],
   "source": [
    "plt.figure(figsize=(8, 6))\n",
    "sns.scatterplot(x='price', y='units_sold', data=train_data)\n",
    "plt.title('Price vs. Units Sold')\n",
    "plt.xlabel('Price')\n",
    "plt.ylabel('Units Sold')\n",
    "plt.show()"
   ]
  },
  {
   "cell_type": "markdown",
   "id": "c319bb86",
   "metadata": {},
   "source": [
    "Price vs. Units Sold: The scatter plot shows how the price of products correlates with the number of units sold.\n",
    "there is a negative correlation between price and units sold. As the price increases, the number of units sold tends to decrease"
   ]
  },
  {
   "cell_type": "code",
   "execution_count": 42,
   "id": "79feccbc",
   "metadata": {},
   "outputs": [
    {
     "data": {
      "text/plain": [
       "merchant_profile_picture\n",
       "https://s3-us-west-1.amazonaws.com/sweeper-production-merchantimage/dp_5acaf29d5ebcfd72403106a8.jpg    8\n",
       "https://s3-us-west-1.amazonaws.com/sweeper-production-merchantimage/dp_55c8a4c33a698c6010edcd9e.jpg    6\n",
       "https://s3-us-west-1.amazonaws.com/sweeper-production-merchantimage/dp_5533c83986ff95173dc017d0.jpg    6\n",
       "https://s3-us-west-1.amazonaws.com/sweeper-production-merchantimage/dp_577fb2b368116418674befd9.jpg    4\n",
       "https://s3-us-west-1.amazonaws.com/sweeper-production-merchantimage/dp_55c8029641d799421d41fe3a.jpg    4\n",
       "                                                                                                      ..\n",
       "https://s3-us-west-1.amazonaws.com/sweeper-production-merchantimage/dp_5756d060b833235cbc250227.jpg    1\n",
       "https://s3-us-west-1.amazonaws.com/sweeper-production-merchantimage/dp_5541ba455252290c0b225b1f.jpg    1\n",
       "https://s3-us-west-1.amazonaws.com/sweeper-production-merchantimage/dp_565537c7a9a8a4572be0bef5.jpg    1\n",
       "https://s3-us-west-1.amazonaws.com/sweeper-production-merchantimage/dp_57875ba40cb30d38ba46f57d.jpg    1\n",
       "https://s3-us-west-1.amazonaws.com/sweeper-production-merchantimage/dp_570ceafac277d445e3cbebe5.jpg    1\n",
       "Name: count, Length: 100, dtype: int64"
      ]
     },
     "execution_count": 42,
     "metadata": {},
     "output_type": "execute_result"
    }
   ],
   "source": [
    "train_data[\"merchant_profile_picture\"].value_counts()"
   ]
  },
  {
   "cell_type": "code",
   "execution_count": 43,
   "id": "28141a02",
   "metadata": {},
   "outputs": [
    {
     "data": {
      "text/plain": [
       "array(['EUR'], dtype=object)"
      ]
     },
     "execution_count": 43,
     "metadata": {},
     "output_type": "execute_result"
    }
   ],
   "source": [
    "train_data['currency_buyer'].unique()"
   ]
  },
  {
   "cell_type": "markdown",
   "id": "e9a90845",
   "metadata": {},
   "source": [
    "the currency_buyer column contains only one unique value ('EUR'), it suggests that all prices are in Euros for the entire dataset,there is no variation in the values of currency_buyer, it doesn't provide any useful information for modeling"
   ]
  },
  {
   "cell_type": "code",
   "execution_count": 44,
   "id": "1e2de8a9",
   "metadata": {},
   "outputs": [
    {
     "data": {
      "text/plain": [
       "array(['2020-08'], dtype=object)"
      ]
     },
     "execution_count": 44,
     "metadata": {},
     "output_type": "execute_result"
    }
   ],
   "source": [
    "train_data['crawl_month'].unique()"
   ]
  },
  {
   "cell_type": "markdown",
   "id": "acd4fef9",
   "metadata": {},
   "source": [
    "the crawl_month column contains only a single unique value ('2020-08'), it likely means that all the data was collected in August 2020.this column doesn't provide any useful information for my analysis or modeling task because it doesn't vary across the dataset.\n",
    " i will drop the crawl_month column as it doesn't offer any variability or predictive power for your model"
   ]
  },
  {
   "cell_type": "code",
   "execution_count": 45,
   "id": "49ff11df",
   "metadata": {},
   "outputs": [
    {
     "data": {
      "text/plain": [
       "array([1, 0], dtype=int64)"
      ]
     },
     "execution_count": 45,
     "metadata": {},
     "output_type": "execute_result"
    }
   ],
   "source": [
    "train_data['merchant_has_profile_picture'].unique()"
   ]
  },
  {
   "cell_type": "code",
   "execution_count": 46,
   "id": "4489569a",
   "metadata": {},
   "outputs": [
    {
     "data": {
      "text/plain": [
       "merchant_has_profile_picture\n",
       "0    911\n",
       "1    169\n",
       "Name: count, dtype: int64"
      ]
     },
     "execution_count": 46,
     "metadata": {},
     "output_type": "execute_result"
    }
   ],
   "source": [
    "train_data['merchant_has_profile_picture'].value_counts()"
   ]
  },
  {
   "cell_type": "markdown",
   "id": "b8363546",
   "metadata": {},
   "source": [
    "Imbalance: the distribution between the two categories is highly imbalanced, it might not provide much predictive power to the model. In this case, dropping the feature could be considered.\n",
    "#### 924 doesn't have profile_picture, 170 have profile picture "
   ]
  },
  {
   "cell_type": "code",
   "execution_count": 47,
   "id": "4d8b3539",
   "metadata": {},
   "outputs": [
    {
     "data": {
      "text/plain": [
       "array([nan, 'Quantité limitée !', 'Réduction sur les achats en gros'],\n",
       "      dtype=object)"
      ]
     },
     "execution_count": 47,
     "metadata": {},
     "output_type": "execute_result"
    }
   ],
   "source": [
    "train_data['urgency_text'].unique()"
   ]
  },
  {
   "cell_type": "markdown",
   "id": "ee6e43d8",
   "metadata": {},
   "source": [
    "### check outliers"
   ]
  },
  {
   "cell_type": "code",
   "execution_count": 29,
   "id": "36039a7c",
   "metadata": {
    "scrolled": false
   },
   "outputs": [
    {
     "data": {
      "image/png": "[encoded data removed]",
      "text/plain": [
       "<Figure size 1000x600 with 1 Axes>"
      ]
     },
     "metadata": {},
     "output_type": "display_data"
    },
    {
     "data": {
      "image/png": "[encoded data removed]",
      "text/plain": [
       "<Figure size 1000x600 with 1 Axes>"
      ]
     },
     "metadata": {},
     "output_type": "display_data"
    },
    {
     "data": {
      "image/png": "[encoded data removed]",
      "text/plain": [
       "<Figure size 1000x600 with 1 Axes>"
      ]
     },
     "metadata": {},
     "output_type": "display_data"
    },
    {
     "data": {
      "image/png": "[encoded data removed]",
      "text/plain": [
       "<Figure size 1000x600 with 1 Axes>"
      ]
     },
     "metadata": {},
     "output_type": "display_data"
    },
    {
     "data": {
      "image/png": "[encoded data removed]",
      "text/plain": [
       "<Figure size 1000x600 with 1 Axes>"
      ]
     },
     "metadata": {},
     "output_type": "display_data"
    },
    {
     "data": {
      "image/png": "[encoded data removed]",
      "text/plain": [
       "<Figure size 1000x600 with 1 Axes>"
      ]
     },
     "metadata": {},
     "output_type": "display_data"
    }
   ],
   "source": [
    "numerical_cols = ['price', 'retail_price', 'rating_count',\n",
    "                  'countries_shipped_to', 'merchant_rating_count', 'merchant_rating']\n",
    "def visualize_outliers(train_data, numerical_columns):\n",
    "    for column in numerical_columns:\n",
    "        plt.figure(figsize=(10, 6))\n",
    "        sns.boxplot(x=train_data[column])\n",
    "        plt.title(f'Boxplot of {column}')\n",
    "        plt.show()\n",
    "\n",
    "visualize_outliers(train_data, numerical_cols)"
   ]
  },
  {
   "cell_type": "markdown",
   "id": "0f9c1341",
   "metadata": {},
   "source": [
    "### we detect outliers in theses num_col and i will remove them using the IQR method"
   ]
  },
  {
   "cell_type": "code",
   "execution_count": 49,
   "id": "0fec4287",
   "metadata": {},
   "outputs": [],
   "source": [
    "def remove_outliers(train_data, cols):\n",
    "    outliers_indices = []\n",
    "    for col in cols:\n",
    "        Q1 = train_data[col].quantile(0.25)\n",
    "        Q3 = train_data[col].quantile(0.75)\n",
    "        IQR = Q3 - Q1\n",
    "        lower_bound = Q1 - 1.5 * IQR\n",
    "        upper_bound = Q3 + 1.5 * IQR\n",
    "        outliers = train_data[(train_data[col] < lower_bound) | (train_data[col] > upper_bound)]\n",
    "        outliers_indices.extend(outliers.index)\n",
    "    df_cleaned = train_data.drop(outliers_indices)\n",
    "    return df_cleaned"
   ]
  },
  {
   "cell_type": "code",
   "execution_count": 50,
   "id": "9e5b1c42",
   "metadata": {},
   "outputs": [],
   "source": [
    "#remove_outliers(train_data, numerical_cols)\n",
    "#remove_outliers(test_data, numerical_cols)\n",
    "#df_r=remove_outliers(df_r, numerical_cols)\n",
    "#df_t=remove_outliers(df_r, numerical_cols)"
   ]
  },
  {
   "cell_type": "code",
   "execution_count": 46,
   "id": "6b05f04d",
   "metadata": {
    "scrolled": false
   },
   "outputs": [
    {
     "data": {
      "image/png": "[encoded data removed]",
      "text/plain": [
       "<Figure size 800x600 with 1 Axes>"
      ]
     },
     "metadata": {},
     "output_type": "display_data"
    }
   ],
   "source": [
    "import seaborn as sns\n",
    "\n",
    "# Box plot to compare units sold for products with and without ad boosts\n",
    "plt.figure(figsize=(8, 6))\n",
    "sns.boxplot(x='uses_ad_boosts', y='units_sold', data=train_data)\n",
    "plt.title('Effectiveness of Ad Boosts on Units Sold')\n",
    "plt.xlabel('Uses Ad Boosts')\n",
    "plt.ylabel('Units Sold')\n",
    "plt.xticks([0, 1], ['No', 'Yes'])\n",
    "plt.show()\n"
   ]
  },
  {
   "cell_type": "markdown",
   "id": "e33d86a1",
   "metadata": {},
   "source": [
    "#### there is no significant effective"
   ]
  },
  {
   "cell_type": "code",
   "execution_count": 159,
   "id": "1d009958",
   "metadata": {},
   "outputs": [
    {
     "data": {
      "image/png": "[encoded data removed]",
      "text/plain": [
       "<Figure size 800x600 with 1 Axes>"
      ]
     },
     "metadata": {},
     "output_type": "display_data"
    }
   ],
   "source": [
    "plt.figure(figsize=(8, 6))\n",
    "sns.scatterplot(x='rating', y='units_sold', data=train_data)\n",
    "plt.title('Rating vs. Units Sold')\n",
    "plt.xlabel('Rating')\n",
    "plt.ylabel('Units Sold')\n",
    "plt.show()"
   ]
  },
  {
   "cell_type": "markdown",
   "id": "15177fff",
   "metadata": {},
   "source": [
    "#### that products with higher ratings tend to have higher sales"
   ]
  },
  {
   "cell_type": "markdown",
   "id": "22191617",
   "metadata": {},
   "source": [
    "#### from previous analysis we now can Identify unnecessary columns in the dataset is crucial for improving model efficiency and reducing noise"
   ]
  },
  {
   "cell_type": "markdown",
   "id": "499b4402",
   "metadata": {},
   "source": [
    "#### Impute missing values in product_color and product_variation_size_id"
   ]
  },
  {
   "cell_type": "markdown",
   "id": "1f24e63c",
   "metadata": {},
   "source": [
    "#### Unique Identifiers: Columns such as  merchant_id, and merchant_profile_picture are likely unique identifiers that do not contribute to the prediction of product ratings\n"
   ]
  },
  {
   "cell_type": "markdown",
   "id": "9cc99467",
   "metadata": {},
   "source": [
    "#### Text Descriptors: Columns like merchant_title, merchant_name, and merchant_info_subtitle contain textual information specific to the merchant but may not directly influence the product rating."
   ]
  },
  {
   "cell_type": "markdown",
   "id": "66924204",
   "metadata": {},
   "source": [
    "#### Categorical Features with High Cardinality: Features like tags and theme  have a large number of unique values, leading to high cardinality."
   ]
  },
  {
   "cell_type": "markdown",
   "id": "b624bb29",
   "metadata": {},
   "source": [
    "#### Columns with Mostly Missing Values: If certain columns have a high percentage of missing values, they may not provide sufficient information for modeling and could be candidates for removal."
   ]
  },
  {
   "cell_type": "markdown",
   "id": "9c882430",
   "metadata": {},
   "source": [
    "#### Impute missing values in origin_country and product_color and product_variation_size_id"
   ]
  },
  {
   "cell_type": "code",
   "execution_count": 44,
   "id": "47d953ba",
   "metadata": {},
   "outputs": [],
   "source": [
    "# Impute missing values in origin_country and merchant_name\n",
    "train_data['origin_country'].fillna(train_data['origin_country'].mode()[0], inplace=True)\n",
    "train_data['merchant_name'].fillna(train_data['merchant_name'].mode()[0], inplace=True)\n",
    "train_data[\"product_color\"].fillna(train_data[\"product_color\"].mode()[0], inplace=True)\n",
    "train_data[\"product_variation_size_id\"].fillna(train_data[\"product_variation_size_id\"].mode()[0], inplace=True)"
   ]
  },
  {
   "cell_type": "code",
   "execution_count": 52,
   "id": "f5109cde",
   "metadata": {},
   "outputs": [],
   "source": [
    "categorical_columns_to_drop = ['currency_buyer', 'crawl_month', 'merchant_has_profile_picture',\"tags\",\n",
    "                               'urgency_text', 'merchant_info_subtitle', 'merchant_profile_picture',\n",
    "                               'theme', 'inventory_total', 'crawl_month', \"merchant_title\", \"merchant_name\",\"shipping_option_name\",\"merchant_id\",'origin_country','merchant_name',\"product_color\",\"product_variation_size_id\"]\n",
    "\n",
    "# Drop the categorical columns except 'product_color', 'origin_country', and 'product_variation_size_id'\n",
    "train_data = train_data.drop(categorical_columns_to_drop, axis=1)\n",
    "test_data = test_data.drop(categorical_columns_to_drop, axis=1)"
   ]
  },
  {
   "cell_type": "code",
   "execution_count": 54,
   "id": "bb2f6cea",
   "metadata": {},
   "outputs": [],
   "source": [
    "categorical_columns_to_drop1 = ['currency_buyer', 'crawl_month', 'merchant_has_profile_picture',\"tags\",\n",
    "                               'urgency_text', 'merchant_info_subtitle', 'merchant_profile_picture',\n",
    "                               'theme', 'inventory_total', 'crawl_month', \"merchant_title\", \"merchant_name\",\"shipping_option_name\",\"merchant_id\",'merchant_name']\n",
    "\n",
    "# Drop the categorical columns except 'product_color', 'origin_country', and 'product_variation_size_id'\n",
    "df_r = df_r.drop(categorical_columns_to_drop1, axis=1)\n",
    "df_t = df_t.drop(categorical_columns_to_drop1, axis=1)"
   ]
  },
  {
   "cell_type": "code",
   "execution_count": 55,
   "id": "2845865a",
   "metadata": {},
   "outputs": [
    {
     "data": {
      "text/plain": [
       "(479, 16)"
      ]
     },
     "execution_count": 55,
     "metadata": {},
     "output_type": "execute_result"
    }
   ],
   "source": [
    "test_data.shape"
   ]
  },
  {
   "cell_type": "code",
   "execution_count": 58,
   "id": "7aba4e48",
   "metadata": {},
   "outputs": [
    {
     "data": {
      "text/plain": [
       "array([nan,  1.])"
      ]
     },
     "execution_count": 58,
     "metadata": {},
     "output_type": "execute_result"
    }
   ],
   "source": [
    "train_data['has_urgency_banner'].unique()"
   ]
  },
  {
   "cell_type": "code",
   "execution_count": 59,
   "id": "c15461bf",
   "metadata": {},
   "outputs": [],
   "source": [
    "train_data['has_urgency_banner'].fillna(0, inplace=True)\n",
    "test_data['has_urgency_banner'].fillna(0, inplace=True)\n",
    "df_r['has_urgency_banner'].fillna(0, inplace=True)\n",
    "df_t['has_urgency_banner'].fillna(0, inplace=True)"
   ]
  },
  {
   "cell_type": "code",
   "execution_count": 61,
   "id": "f099d1e6",
   "metadata": {},
   "outputs": [
    {
     "data": {
      "text/plain": [
       "array([0., 1.])"
      ]
     },
     "execution_count": 61,
     "metadata": {},
     "output_type": "execute_result"
    }
   ],
   "source": [
    "train_data['has_urgency_banner'].unique()"
   ]
  },
  {
   "cell_type": "code",
   "execution_count": 60,
   "id": "a257bf0d",
   "metadata": {},
   "outputs": [
    {
     "data": {
      "text/html": [
       "<div>\n",
       "<style scoped>\n",
       "    .dataframe tbody tr th:only-of-type {\n",
       "        vertical-align: middle;\n",
       "    }\n",
       "\n",
       "    .dataframe tbody tr th {\n",
       "        vertical-align: top;\n",
       "    }\n",
       "\n",
       "    .dataframe thead th {\n",
       "        text-align: right;\n",
       "    }\n",
       "</style>\n",
       "<table border=\"1\" class=\"dataframe\">\n",
       "  <thead>\n",
       "    <tr style=\"text-align: right;\">\n",
       "      <th></th>\n",
       "      <th>price</th>\n",
       "      <th>retail_price</th>\n",
       "      <th>units_sold</th>\n",
       "      <th>uses_ad_boosts</th>\n",
       "      <th>rating</th>\n",
       "      <th>rating_count</th>\n",
       "      <th>badges_count</th>\n",
       "      <th>badge_local_product</th>\n",
       "      <th>badge_product_quality</th>\n",
       "      <th>badge_fast_shipping</th>\n",
       "      <th>product_variation_inventory</th>\n",
       "      <th>shipping_option_price</th>\n",
       "      <th>shipping_is_express</th>\n",
       "      <th>countries_shipped_to</th>\n",
       "      <th>has_urgency_banner</th>\n",
       "      <th>merchant_rating_count</th>\n",
       "      <th>merchant_rating</th>\n",
       "    </tr>\n",
       "    <tr>\n",
       "      <th>id</th>\n",
       "      <th></th>\n",
       "      <th></th>\n",
       "      <th></th>\n",
       "      <th></th>\n",
       "      <th></th>\n",
       "      <th></th>\n",
       "      <th></th>\n",
       "      <th></th>\n",
       "      <th></th>\n",
       "      <th></th>\n",
       "      <th></th>\n",
       "      <th></th>\n",
       "      <th></th>\n",
       "      <th></th>\n",
       "      <th></th>\n",
       "      <th></th>\n",
       "      <th></th>\n",
       "    </tr>\n",
       "  </thead>\n",
       "  <tbody>\n",
       "    <tr>\n",
       "      <th>272</th>\n",
       "      <td>8.00</td>\n",
       "      <td>7</td>\n",
       "      <td>10000</td>\n",
       "      <td>1</td>\n",
       "      <td>4.0</td>\n",
       "      <td>1670</td>\n",
       "      <td>0</td>\n",
       "      <td>0</td>\n",
       "      <td>0</td>\n",
       "      <td>0</td>\n",
       "      <td>50</td>\n",
       "      <td>3</td>\n",
       "      <td>0</td>\n",
       "      <td>30</td>\n",
       "      <td>0.0</td>\n",
       "      <td>66644</td>\n",
       "      <td>4.137582</td>\n",
       "    </tr>\n",
       "    <tr>\n",
       "      <th>1515</th>\n",
       "      <td>8.00</td>\n",
       "      <td>7</td>\n",
       "      <td>1000</td>\n",
       "      <td>0</td>\n",
       "      <td>4.0</td>\n",
       "      <td>843</td>\n",
       "      <td>1</td>\n",
       "      <td>1</td>\n",
       "      <td>0</td>\n",
       "      <td>0</td>\n",
       "      <td>50</td>\n",
       "      <td>3</td>\n",
       "      <td>0</td>\n",
       "      <td>37</td>\n",
       "      <td>0.0</td>\n",
       "      <td>25752</td>\n",
       "      <td>4.256873</td>\n",
       "    </tr>\n",
       "    <tr>\n",
       "      <th>940</th>\n",
       "      <td>6.00</td>\n",
       "      <td>34</td>\n",
       "      <td>100</td>\n",
       "      <td>0</td>\n",
       "      <td>4.0</td>\n",
       "      <td>10</td>\n",
       "      <td>0</td>\n",
       "      <td>0</td>\n",
       "      <td>0</td>\n",
       "      <td>0</td>\n",
       "      <td>50</td>\n",
       "      <td>2</td>\n",
       "      <td>0</td>\n",
       "      <td>41</td>\n",
       "      <td>0.0</td>\n",
       "      <td>3897</td>\n",
       "      <td>3.928920</td>\n",
       "    </tr>\n",
       "    <tr>\n",
       "      <th>309</th>\n",
       "      <td>4.67</td>\n",
       "      <td>4</td>\n",
       "      <td>100</td>\n",
       "      <td>1</td>\n",
       "      <td>3.0</td>\n",
       "      <td>82</td>\n",
       "      <td>0</td>\n",
       "      <td>0</td>\n",
       "      <td>0</td>\n",
       "      <td>0</td>\n",
       "      <td>5</td>\n",
       "      <td>1</td>\n",
       "      <td>0</td>\n",
       "      <td>25</td>\n",
       "      <td>0.0</td>\n",
       "      <td>7497</td>\n",
       "      <td>4.079365</td>\n",
       "    </tr>\n",
       "    <tr>\n",
       "      <th>226</th>\n",
       "      <td>8.00</td>\n",
       "      <td>11</td>\n",
       "      <td>1000</td>\n",
       "      <td>0</td>\n",
       "      <td>4.0</td>\n",
       "      <td>127</td>\n",
       "      <td>0</td>\n",
       "      <td>0</td>\n",
       "      <td>0</td>\n",
       "      <td>0</td>\n",
       "      <td>50</td>\n",
       "      <td>3</td>\n",
       "      <td>0</td>\n",
       "      <td>15</td>\n",
       "      <td>1.0</td>\n",
       "      <td>173</td>\n",
       "      <td>4.306358</td>\n",
       "    </tr>\n",
       "  </tbody>\n",
       "</table>\n",
       "</div>"
      ],
      "text/plain": [
       "      price  retail_price  units_sold  uses_ad_boosts  rating  rating_count  \\\n",
       "id                                                                            \n",
       "272    8.00             7       10000               1     4.0          1670   \n",
       "1515   8.00             7        1000               0     4.0           843   \n",
       "940    6.00            34         100               0     4.0            10   \n",
       "309    4.67             4         100               1     3.0            82   \n",
       "226    8.00            11        1000               0     4.0           127   \n",
       "\n",
       "      badges_count  badge_local_product  badge_product_quality  \\\n",
       "id                                                               \n",
       "272              0                    0                      0   \n",
       "1515             1                    1                      0   \n",
       "940              0                    0                      0   \n",
       "309              0                    0                      0   \n",
       "226              0                    0                      0   \n",
       "\n",
       "      badge_fast_shipping  product_variation_inventory  shipping_option_price  \\\n",
       "id                                                                              \n",
       "272                     0                           50                      3   \n",
       "1515                    0                           50                      3   \n",
       "940                     0                           50                      2   \n",
       "309                     0                            5                      1   \n",
       "226                     0                           50                      3   \n",
       "\n",
       "      shipping_is_express  countries_shipped_to  has_urgency_banner  \\\n",
       "id                                                                    \n",
       "272                     0                    30                 0.0   \n",
       "1515                    0                    37                 0.0   \n",
       "940                     0                    41                 0.0   \n",
       "309                     0                    25                 0.0   \n",
       "226                     0                    15                 1.0   \n",
       "\n",
       "      merchant_rating_count  merchant_rating  \n",
       "id                                            \n",
       "272                   66644         4.137582  \n",
       "1515                  25752         4.256873  \n",
       "940                    3897         3.928920  \n",
       "309                    7497         4.079365  \n",
       "226                     173         4.306358  "
      ]
     },
     "execution_count": 60,
     "metadata": {},
     "output_type": "execute_result"
    }
   ],
   "source": [
    "train_data.head()"
   ]
  },
  {
   "cell_type": "code",
   "execution_count": 64,
   "id": "aa48a346",
   "metadata": {},
   "outputs": [
    {
     "name": "stdout",
     "output_type": "stream",
     "text": [
      "      price  retail_price  units_sold  uses_ad_boosts  rating  rating_count  \\\n",
      "id                                                                            \n",
      "272    8.00             7       10000               1     4.0          1670   \n",
      "1515   8.00             7        1000               0     4.0           843   \n",
      "940    6.00            34         100               0     4.0            10   \n",
      "309    4.67             4         100               1     3.0            82   \n",
      "226    8.00            11        1000               0     4.0           127   \n",
      "\n",
      "      badges_count  badge_local_product  badge_product_quality  \\\n",
      "id                                                               \n",
      "272              0                    0                      0   \n",
      "1515             1                    1                      0   \n",
      "940              0                    0                      0   \n",
      "309              0                    0                      0   \n",
      "226              0                    0                      0   \n",
      "\n",
      "      badge_fast_shipping  product_variation_inventory  shipping_option_price  \\\n",
      "id                                                                              \n",
      "272                     0                           50                      3   \n",
      "1515                    0                           50                      3   \n",
      "940                     0                           50                      2   \n",
      "309                     0                            5                      1   \n",
      "226                     0                           50                      3   \n",
      "\n",
      "      shipping_is_express  countries_shipped_to  has_urgency_banner  \\\n",
      "id                                                                    \n",
      "272                     0                    30                 0.0   \n",
      "1515                    0                    37                 0.0   \n",
      "940                     0                    41                 0.0   \n",
      "309                     0                    25                 0.0   \n",
      "226                     0                    15                 1.0   \n",
      "\n",
      "      merchant_rating_count  merchant_rating  \n",
      "id                                            \n",
      "272                   66644         4.137582  \n",
      "1515                  25752         4.256873  \n",
      "940                    3897         3.928920  \n",
      "309                    7497         4.079365  \n",
      "226                     173         4.306358  \n",
      "     price  retail_price  units_sold  uses_ad_boosts  rating_count  \\\n",
      "id                                                                   \n",
      "937   5.75             5          10               1             0   \n",
      "270   7.00             7        5000               0           579   \n",
      "308   5.00            16        1000               1            62   \n",
      "913  18.00            27        5000               1          1903   \n",
      "403  12.00            81       20000               0          1799   \n",
      "\n",
      "     badges_count  badge_local_product  badge_product_quality  \\\n",
      "id                                                              \n",
      "937             0                    0                      0   \n",
      "270             0                    0                      0   \n",
      "308             0                    0                      0   \n",
      "913             0                    0                      0   \n",
      "403             0                    0                      0   \n",
      "\n",
      "     badge_fast_shipping  product_variation_inventory  shipping_option_price  \\\n",
      "id                                                                             \n",
      "937                    0                            5                      2   \n",
      "270                    0                           50                      2   \n",
      "308                    0                           20                      2   \n",
      "913                    0                           50                      5   \n",
      "403                    0                           50                      3   \n",
      "\n",
      "     shipping_is_express  countries_shipped_to  has_urgency_banner  \\\n",
      "id                                                                   \n",
      "937                    0                   139                 0.0   \n",
      "270                    0                    31                 0.0   \n",
      "308                    0                    41                 0.0   \n",
      "913                    0                    42                 0.0   \n",
      "403                    0                    38                 0.0   \n",
      "\n",
      "     merchant_rating_count  merchant_rating  \n",
      "id                                           \n",
      "937                      3         2.333333  \n",
      "270                   4213         4.058391  \n",
      "308                  10501         4.029235  \n",
      "913                  15855         4.052917  \n",
      "403                 151914         4.127921  \n"
     ]
    }
   ],
   "source": [
    "# Display the updated DataFrames\n",
    "print(train_data.head())\n",
    "print(test_data.head())"
   ]
  },
  {
   "cell_type": "markdown",
   "id": "14d312fb",
   "metadata": {},
   "source": [
    "## Model Training"
   ]
  },
  {
   "cell_type": "code",
   "execution_count": 66,
   "id": "7b4bd755",
   "metadata": {},
   "outputs": [],
   "source": [
    "# Divide data into features X and target y\n",
    "X = train_data.drop([\"rating\"], axis=1)\n",
    "y = train_data[\"rating\"]"
   ]
  },
  {
   "cell_type": "code",
   "execution_count": 67,
   "id": "46f57983",
   "metadata": {},
   "outputs": [],
   "source": [
    "from sklearn.model_selection import train_test_split\n",
    "X_train, X_valid, y_train, y_valid = train_test_split(X, y, test_size=0.2,random_state=42)\n",
    "# test data\n",
    "X_test=test_data"
   ]
  },
  {
   "cell_type": "code",
   "execution_count": 68,
   "id": "469f871c",
   "metadata": {},
   "outputs": [
    {
     "data": {
      "text/plain": [
       "(479, 16)"
      ]
     },
     "execution_count": 68,
     "metadata": {},
     "output_type": "execute_result"
    }
   ],
   "source": [
    "X_test.shape"
   ]
  },
  {
   "cell_type": "code",
   "execution_count": 69,
   "id": "6f4d7669",
   "metadata": {},
   "outputs": [
    {
     "name": "stdout",
     "output_type": "stream",
     "text": [
      "Shape of X_train: (864, 16)\n",
      "Shape of X_valid: (216, 16)\n",
      "Shape of y_train: (864,)\n",
      "Shape of y_valid: (216,)\n"
     ]
    }
   ],
   "source": [
    "print(\"Shape of X_train:\", X_train.shape)\n",
    "print(\"Shape of X_valid:\", X_valid.shape)\n",
    "print(\"Shape of y_train:\", y_train.shape)\n",
    "print(\"Shape of y_valid:\", y_valid.shape)"
   ]
  },
  {
   "cell_type": "code",
   "execution_count": 70,
   "id": "2f32084f",
   "metadata": {},
   "outputs": [
    {
     "data": {
      "text/plain": [
       "price                          0\n",
       "retail_price                   0\n",
       "units_sold                     0\n",
       "uses_ad_boosts                 0\n",
       "rating_count                   0\n",
       "badges_count                   0\n",
       "badge_local_product            0\n",
       "badge_product_quality          0\n",
       "badge_fast_shipping            0\n",
       "product_variation_inventory    0\n",
       "shipping_option_price          0\n",
       "shipping_is_express            0\n",
       "countries_shipped_to           0\n",
       "has_urgency_banner             0\n",
       "merchant_rating_count          0\n",
       "merchant_rating                0\n",
       "dtype: int64"
      ]
     },
     "execution_count": 70,
     "metadata": {},
     "output_type": "execute_result"
    }
   ],
   "source": [
    "X.isnull().sum()"
   ]
  },
  {
   "cell_type": "markdown",
   "id": "4b82f51d",
   "metadata": {},
   "source": [
    "### Trial 0: Baseline Model\n",
    "- **Reason**: Establish a baseline performance using default configurations of selected models.\n",
    "- **Expected Outcome**: Obtain initial performance metrics for further comparison.\n",
    "- **Observations**: Baseline models perform decently but have room for improvement.\n",
    "- **Plan for Trial 1**: Experiment with different feature sets to improve model performance."
   ]
  },
  {
   "cell_type": "code",
   "execution_count": 71,
   "id": "3ae1d75d",
   "metadata": {},
   "outputs": [
    {
     "data": {
      "text/html": [
       "<style>#sk-container-id-1 {color: black;}#sk-container-id-1 pre{padding: 0;}#sk-container-id-1 div.sk-toggleable {background-color: white;}#sk-container-id-1 label.sk-toggleable__label {cursor: pointer;display: block;width: 100%;margin-bottom: 0;padding: 0.3em;box-sizing: border-box;text-align: center;}#sk-container-id-1 label.sk-toggleable__label-arrow:before {content: \"▸\";float: left;margin-right: 0.25em;color: #696969;}#sk-container-id-1 label.sk-toggleable__label-arrow:hover:before {color: black;}#sk-container-id-1 div.sk-estimator:hover label.sk-toggleable__label-arrow:before {color: black;}#sk-container-id-1 div.sk-toggleable__content {max-height: 0;max-width: 0;overflow: hidden;text-align: left;background-color: #f0f8ff;}#sk-container-id-1 div.sk-toggleable__content pre {margin: 0.2em;color: black;border-radius: 0.25em;background-color: #f0f8ff;}#sk-container-id-1 input.sk-toggleable__control:checked~div.sk-toggleable__content {max-height: 200px;max-width: 100%;overflow: auto;}#sk-container-id-1 input.sk-toggleable__control:checked~label.sk-toggleable__label-arrow:before {content: \"▾\";}#sk-container-id-1 div.sk-estimator input.sk-toggleable__control:checked~label.sk-toggleable__label {background-color: #d4ebff;}#sk-container-id-1 div.sk-label input.sk-toggleable__control:checked~label.sk-toggleable__label {background-color: #d4ebff;}#sk-container-id-1 input.sk-hidden--visually {border: 0;clip: rect(1px 1px 1px 1px);clip: rect(1px, 1px, 1px, 1px);height: 1px;margin: -1px;overflow: hidden;padding: 0;position: absolute;width: 1px;}#sk-container-id-1 div.sk-estimator {font-family: monospace;background-color: #f0f8ff;border: 1px dotted black;border-radius: 0.25em;box-sizing: border-box;margin-bottom: 0.5em;}#sk-container-id-1 div.sk-estimator:hover {background-color: #d4ebff;}#sk-container-id-1 div.sk-parallel-item::after {content: \"\";width: 100%;border-bottom: 1px solid gray;flex-grow: 1;}#sk-container-id-1 div.sk-label:hover label.sk-toggleable__label {background-color: #d4ebff;}#sk-container-id-1 div.sk-serial::before {content: \"\";position: absolute;border-left: 1px solid gray;box-sizing: border-box;top: 0;bottom: 0;left: 50%;z-index: 0;}#sk-container-id-1 div.sk-serial {display: flex;flex-direction: column;align-items: center;background-color: white;padding-right: 0.2em;padding-left: 0.2em;position: relative;}#sk-container-id-1 div.sk-item {position: relative;z-index: 1;}#sk-container-id-1 div.sk-parallel {display: flex;align-items: stretch;justify-content: center;background-color: white;position: relative;}#sk-container-id-1 div.sk-item::before, #sk-container-id-1 div.sk-parallel-item::before {content: \"\";position: absolute;border-left: 1px solid gray;box-sizing: border-box;top: 0;bottom: 0;left: 50%;z-index: -1;}#sk-container-id-1 div.sk-parallel-item {display: flex;flex-direction: column;z-index: 1;position: relative;background-color: white;}#sk-container-id-1 div.sk-parallel-item:first-child::after {align-self: flex-end;width: 50%;}#sk-container-id-1 div.sk-parallel-item:last-child::after {align-self: flex-start;width: 50%;}#sk-container-id-1 div.sk-parallel-item:only-child::after {width: 0;}#sk-container-id-1 div.sk-dashed-wrapped {border: 1px dashed gray;margin: 0 0.4em 0.5em 0.4em;box-sizing: border-box;padding-bottom: 0.4em;background-color: white;}#sk-container-id-1 div.sk-label label {font-family: monospace;font-weight: bold;display: inline-block;line-height: 1.2em;}#sk-container-id-1 div.sk-label-container {text-align: center;}#sk-container-id-1 div.sk-container {/* jupyter's `normalize.less` sets `[hidden] { display: none; }` but bootstrap.min.css set `[hidden] { display: none !important; }` so we also need the `!important` here to be able to override the default hidden behavior on the sphinx rendered scikit-learn.org. See: https://github.com/scikit-learn/scikit-learn/issues/21755 */display: inline-block !important;position: relative;}#sk-container-id-1 div.sk-text-repr-fallback {display: none;}</style><div id=\"sk-container-id-1\" class=\"sk-top-container\"><div class=\"sk-text-repr-fallback\"><pre>RandomForestClassifier(random_state=42)</pre><b>In a Jupyter environment, please rerun this cell to show the HTML representation or trust the notebook. <br />On GitHub, the HTML representation is unable to render, please try loading this page with nbviewer.org.</b></div><div class=\"sk-container\" hidden><div class=\"sk-item\"><div class=\"sk-estimator sk-toggleable\"><input class=\"sk-toggleable__control sk-hidden--visually\" id=\"sk-estimator-id-1\" type=\"checkbox\" checked><label for=\"sk-estimator-id-1\" class=\"sk-toggleable__label sk-toggleable__label-arrow\">RandomForestClassifier</label><div class=\"sk-toggleable__content\"><pre>RandomForestClassifier(random_state=42)</pre></div></div></div></div></div>"
      ],
      "text/plain": [
       "RandomForestClassifier(random_state=42)"
      ]
     },
     "execution_count": 71,
     "metadata": {},
     "output_type": "execute_result"
    }
   ],
   "source": [
    "# Model training\n",
    "model = RandomForestClassifier(n_estimators=100, random_state=42)\n",
    "model.fit(X_train, y_train)"
   ]
  },
  {
   "cell_type": "code",
   "execution_count": 72,
   "id": "21cc9e2b",
   "metadata": {},
   "outputs": [
    {
     "name": "stdout",
     "output_type": "stream",
     "text": [
      "Scoring on Training data:\n",
      "\n",
      "F1_score is: 1.0\n"
     ]
    }
   ],
   "source": [
    "from sklearn import metrics  # Import the metrics module\n",
    "print(\"Scoring on Training data:\\n\")\n",
    "# Predict on the training set\n",
    "rf_v1_pred = model.predict(X_train)\n",
    "# Calculate F1 score using 'micro' average\n",
    "f1_score = metrics.f1_score(y_train, rf_v1_pred, average=\"micro\")\n",
    "print(\"F1_score is:\", f1_score)"
   ]
  },
  {
   "cell_type": "code",
   "execution_count": 73,
   "id": "598d6bc7",
   "metadata": {},
   "outputs": [
    {
     "name": "stdout",
     "output_type": "stream",
     "text": [
      "F1_score:  0.8101851851851852\n"
     ]
    },
    {
     "data": {
      "text/plain": [
       "array([1.        , 0.66666667, 0.26666667, 0.88695652, 0.61538462])"
      ]
     },
     "execution_count": 73,
     "metadata": {},
     "output_type": "execute_result"
    }
   ],
   "source": [
    "# show the f1_score on Testing data\n",
    "rf_v1_pred = model.predict(X_valid)\n",
    "print(\"F1_score: \",metrics.f1_score(y_valid, rf_v1_pred, average=\"micro\"))\n",
    "metrics.f1_score(y_valid, rf_v1_pred, average=None)"
   ]
  },
  {
   "cell_type": "code",
   "execution_count": 74,
   "id": "1ad19934",
   "metadata": {},
   "outputs": [],
   "source": [
    "# get the prediction on testing data and save it\n",
    "RF_pred= model.predict(X_test)\n",
    "df = pd.DataFrame({\"ID\": X_test.index, \"rating\": RF_pred})\n",
    "# the df as a csv file in the local\n",
    "df.to_csv(\"RF_balance_hasbanner.csv\", index=False)"
   ]
  },
  {
   "cell_type": "markdown",
   "id": "59cfcdc9",
   "metadata": {},
   "source": [
    "#### Trial 1: Hyperparameter Tuning for RandomForestClassifier\n",
    "- **Reason**: The baseline model performed reasonably well, but hyperparameter tuning can further improve its performance by finding the optimal combination of hyperparameters.\n",
    "- **Expected Outcome**: By using GridSearchCV to search across a range of hyperparameters, we aim to find the best configuration that maximizes the F1 score on the validation set.\n",
    "- **Observations**: The grid search explores different combinations of hyperparameters and evaluates their performance using cross-validation. This process can be computationally expensive but ensures we find the best model configuration.\n",
    "- **Plan for Trial 2**: Evaluate the performance of the tuned RandomForestClassifier on the test set and compare it with the baseline model.\n"
   ]
  },
  {
   "cell_type": "code",
   "execution_count": 75,
   "id": "3cb7714c",
   "metadata": {},
   "outputs": [
    {
     "name": "stderr",
     "output_type": "stream",
     "text": [
      "C:\\Users\\smart fix\\anaconda3\\Lib\\site-packages\\sklearn\\model_selection\\_split.py:725: UserWarning: The least populated class in y has only 1 members, which is less than n_splits=5.\n",
      "  warnings.warn(\n",
      "C:\\Users\\smart fix\\anaconda3\\Lib\\site-packages\\sklearn\\model_selection\\_validation.py:425: FitFailedWarning: \n",
      "540 fits failed out of a total of 1620.\n",
      "The score on these train-test partitions for these parameters will be set to nan.\n",
      "If these failures are not expected, you can try to debug them by setting error_score='raise'.\n",
      "\n",
      "Below are more details about the failures:\n",
      "--------------------------------------------------------------------------------\n",
      "200 fits failed with the following error:\n",
      "Traceback (most recent call last):\n",
      "  File \"C:\\Users\\smart fix\\anaconda3\\Lib\\site-packages\\sklearn\\model_selection\\_validation.py\", line 732, in _fit_and_score\n",
      "    estimator.fit(X_train, y_train, **fit_params)\n",
      "  File \"C:\\Users\\smart fix\\anaconda3\\Lib\\site-packages\\sklearn\\base.py\", line 1144, in wrapper\n",
      "    estimator._validate_params()\n",
      "  File \"C:\\Users\\smart fix\\anaconda3\\Lib\\site-packages\\sklearn\\base.py\", line 637, in _validate_params\n",
      "    validate_parameter_constraints(\n",
      "  File \"C:\\Users\\smart fix\\anaconda3\\Lib\\site-packages\\sklearn\\utils\\_param_validation.py\", line 95, in validate_parameter_constraints\n",
      "    raise InvalidParameterError(\n",
      "sklearn.utils._param_validation.InvalidParameterError: The 'max_features' parameter of RandomForestClassifier must be an int in the range [1, inf), a float in the range (0.0, 1.0], a str among {'log2', 'sqrt'} or None. Got 'auto' instead.\n",
      "\n",
      "--------------------------------------------------------------------------------\n",
      "340 fits failed with the following error:\n",
      "Traceback (most recent call last):\n",
      "  File \"C:\\Users\\smart fix\\anaconda3\\Lib\\site-packages\\sklearn\\model_selection\\_validation.py\", line 732, in _fit_and_score\n",
      "    estimator.fit(X_train, y_train, **fit_params)\n",
      "  File \"C:\\Users\\smart fix\\anaconda3\\Lib\\site-packages\\sklearn\\base.py\", line 1144, in wrapper\n",
      "    estimator._validate_params()\n",
      "  File \"C:\\Users\\smart fix\\anaconda3\\Lib\\site-packages\\sklearn\\base.py\", line 637, in _validate_params\n",
      "    validate_parameter_constraints(\n",
      "  File \"C:\\Users\\smart fix\\anaconda3\\Lib\\site-packages\\sklearn\\utils\\_param_validation.py\", line 95, in validate_parameter_constraints\n",
      "    raise InvalidParameterError(\n",
      "sklearn.utils._param_validation.InvalidParameterError: The 'max_features' parameter of RandomForestClassifier must be an int in the range [1, inf), a float in the range (0.0, 1.0], a str among {'sqrt', 'log2'} or None. Got 'auto' instead.\n",
      "\n",
      "  warnings.warn(some_fits_failed_message, FitFailedWarning)\n",
      "C:\\Users\\smart fix\\anaconda3\\Lib\\site-packages\\sklearn\\model_selection\\_search.py:976: UserWarning: One or more of the test scores are non-finite: [       nan        nan        nan        nan        nan        nan\n",
      "        nan        nan        nan        nan        nan        nan\n",
      "        nan        nan        nan        nan        nan        nan\n",
      "        nan        nan        nan        nan        nan        nan\n",
      "        nan        nan        nan 0.79048259 0.79395752 0.79396424\n",
      " 0.78353945 0.77775911 0.77891518 0.74421293 0.74999328 0.75114263\n",
      " 0.76851727 0.76619841 0.76619841 0.77428418 0.76851055 0.76387955\n",
      " 0.72338352 0.73379486 0.73148273 0.71992875 0.72917059 0.7233768\n",
      " 0.71992875 0.72917059 0.7233768  0.71297217 0.71413496 0.71067348\n",
      " 0.79048259 0.79395752 0.79396424 0.78353945 0.77775911 0.77891518\n",
      " 0.74421293 0.74999328 0.75114263 0.76851727 0.76619841 0.76619841\n",
      " 0.77428418 0.76851055 0.76387955 0.72338352 0.73379486 0.73148273\n",
      " 0.71992875 0.72917059 0.7233768  0.71992875 0.72917059 0.7233768\n",
      " 0.71297217 0.71413496 0.71067348        nan        nan        nan\n",
      "        nan        nan        nan        nan        nan        nan\n",
      "        nan        nan        nan        nan        nan        nan\n",
      "        nan        nan        nan        nan        nan        nan\n",
      "        nan        nan        nan        nan        nan        nan\n",
      " 0.76851055 0.77660976 0.77544697 0.75001344 0.75116279 0.74768786\n",
      " 0.7257091  0.72455303 0.72454631 0.74304342 0.74074472 0.745369\n",
      " 0.75231886 0.74652507 0.74190079 0.71875924 0.71992875 0.71875924\n",
      " 0.71298562 0.71414169 0.71413496 0.71298562 0.71414169 0.71413496\n",
      " 0.70490657 0.69680737 0.70489985 0.76851055 0.77660976 0.77544697\n",
      " 0.75001344 0.75116279 0.74768786 0.7257091  0.72455303 0.72454631\n",
      " 0.74304342 0.74074472 0.745369   0.75231886 0.74652507 0.74190079\n",
      " 0.71875924 0.71992875 0.71875924 0.71298562 0.71414169 0.71413496\n",
      " 0.71298562 0.71414169 0.71413496 0.70490657 0.69680737 0.70489985\n",
      "        nan        nan        nan        nan        nan        nan\n",
      "        nan        nan        nan        nan        nan        nan\n",
      "        nan        nan        nan        nan        nan        nan\n",
      "        nan        nan        nan        nan        nan        nan\n",
      "        nan        nan        nan 0.78816373 0.79164538 0.79280817\n",
      " 0.78238338 0.77775911 0.77891518 0.74305686 0.75114935 0.74998656\n",
      " 0.76967334 0.76504907 0.76619841 0.77428418 0.76851055 0.76387955\n",
      " 0.72453959 0.73263207 0.73148273 0.72108482 0.72917059 0.7233768\n",
      " 0.72108482 0.72917059 0.7233768  0.71297217 0.71413496 0.71067348\n",
      " 0.78816373 0.79164538 0.79280817 0.78238338 0.77775911 0.77891518\n",
      " 0.74305686 0.75114935 0.74998656 0.76967334 0.76504907 0.76619841\n",
      " 0.77428418 0.76851055 0.76387955 0.72453959 0.73263207 0.73148273\n",
      " 0.72108482 0.72917059 0.7233768  0.72108482 0.72917059 0.7233768\n",
      " 0.71297217 0.71413496 0.71067348        nan        nan        nan\n",
      "        nan        nan        nan        nan        nan        nan\n",
      "        nan        nan        nan        nan        nan        nan\n",
      "        nan        nan        nan        nan        nan        nan\n",
      "        nan        nan        nan        nan        nan        nan\n",
      " 0.79048259 0.79395752 0.79396424 0.78353945 0.77775911 0.77891518\n",
      " 0.74421293 0.74999328 0.75114263 0.76851727 0.76619841 0.76619841\n",
      " 0.77428418 0.76851055 0.76387955 0.72338352 0.73379486 0.73148273\n",
      " 0.71992875 0.72917059 0.7233768  0.71992875 0.72917059 0.7233768\n",
      " 0.71297217 0.71413496 0.71067348 0.79048259 0.79395752 0.79396424\n",
      " 0.78353945 0.77775911 0.77891518 0.74421293 0.74999328 0.75114263\n",
      " 0.76851727 0.76619841 0.76619841 0.77428418 0.76851055 0.76387955\n",
      " 0.72338352 0.73379486 0.73148273 0.71992875 0.72917059 0.7233768\n",
      " 0.71992875 0.72917059 0.7233768  0.71297217 0.71413496 0.71067348]\n",
      "  warnings.warn(\n"
     ]
    }
   ],
   "source": [
    "model1 = RandomForestClassifier(n_estimators=100, random_state=42,class_weight='balanced')\n",
    "\n",
    "# Define the hyperparameters to tune\n",
    "param_grid = {\n",
    "    'n_estimators': [100, 200, 300],\n",
    "    'max_depth': [None, 10, 20, 30],\n",
    "    'min_samples_split': [2, 5, 10],\n",
    "    'min_samples_leaf': [1, 2, 4],\n",
    "    'max_features': ['auto', 'sqrt', 'log2']\n",
    "}\n",
    "\n",
    "# Perform GridSearchCV to find the best hyperparameters\n",
    "grid_search = GridSearchCV(model1, param_grid, cv=5, scoring='f1_micro', n_jobs=-1)\n",
    "grid_search.fit(X_train, y_train)\n",
    "\n",
    "# Get the best model\n",
    "best_model = grid_search.best_estimator_\n",
    "\n",
    "# Make predictions on the validation set using the best model\n",
    "y_pred_val = best_model.predict(X_valid)"
   ]
  },
  {
   "cell_type": "code",
   "execution_count": 76,
   "id": "1033f994",
   "metadata": {},
   "outputs": [
    {
     "name": "stdout",
     "output_type": "stream",
     "text": [
      "F1_rf_tune:  0.8055555555555556\n"
     ]
    },
    {
     "data": {
      "text/plain": [
       "array([1.        , 0.66666667, 0.23076923, 0.88319088, 0.56      ])"
      ]
     },
     "execution_count": 76,
     "metadata": {},
     "output_type": "execute_result"
    }
   ],
   "source": [
    "print(\"F1_rf_tune: \",metrics.f1_score(y_valid, y_pred_val, average=\"micro\"))\n",
    "metrics.f1_score(y_valid, y_pred_val, average=None)"
   ]
  },
  {
   "cell_type": "code",
   "execution_count": 77,
   "id": "9ed5ff3f",
   "metadata": {},
   "outputs": [],
   "source": [
    "RF_tune = best_model.predict(X_test)\n",
    "df = pd.DataFrame({\"ID\": X_test.index, \"rating\": RF_tune})\n",
    "    # the df as a csv file in the local\n",
    "df.to_csv(\"RF_tunehassbanner.csv\", index=False)"
   ]
  },
  {
   "cell_type": "markdown",
   "id": "aa137a8f",
   "metadata": {},
   "source": [
    "#### Comparison of Trial 0 and Trial 1 for Random Forest Model Performance\n",
    "\n",
    "- **Grid Search Hyperparameter Tuning**: \n",
    "- **Default Classifier**: \n",
    "\n",
    "The F1 score obtained after hyperparameter tuning using Grid Search slightly outperforms the F1 score of the default Random Forest classifier on the validation set. This improvement indicates that fine-tuning the model's hyperparameters can lead to better performance metrics. However, the difference in F1 scores between the tuned and default models is relatively small, suggesting that the default configuration already provides decent performance. "
   ]
  },
  {
   "cell_type": "markdown",
   "id": "266e99a1",
   "metadata": {},
   "source": [
    "### Trial 2: Decision Tree Classifier\n",
    "- **Reason**: Decision trees are simple yet powerful models that can capture nonlinear relationships in the data. By using a Decision Tree Classifier, we can explore whether a simpler model can achieve comparable performance to the RandomForestClassifier while offering better interpretability.\n",
    "- **Expected Outcome**: Evaluate the performance of the Decision Tree Classifier on the validation set and compare it with the RandomForestClassifier. We expect the Decision Tree Classifier to provide insights into feature importance and decision-making processes.\n",
    "- **Observations**: Decision trees partition the feature space into regions based on feature splits, making them easy to interpret and visualize. However, they are prone to overfitting and may not generalize well to unseen data compared to ensemble methods like random forests.\n",
    "- **Plan for Trial 3**: apply further hyperparameter tuning to improve the performance of the Decision Tree Classifier."
   ]
  },
  {
   "cell_type": "code",
   "execution_count": 79,
   "id": "4cd27ab8",
   "metadata": {},
   "outputs": [
    {
     "data": {
      "text/plain": [
       "(216,)"
      ]
     },
     "execution_count": 79,
     "metadata": {},
     "output_type": "execute_result"
    }
   ],
   "source": [
    "y_valid.shape"
   ]
  },
  {
   "cell_type": "code",
   "execution_count": 80,
   "id": "2cb6f110",
   "metadata": {},
   "outputs": [
    {
     "data": {
      "text/plain": [
       "(216, 16)"
      ]
     },
     "execution_count": 80,
     "metadata": {},
     "output_type": "execute_result"
    }
   ],
   "source": [
    "X_valid.shape"
   ]
  },
  {
   "cell_type": "code",
   "execution_count": 81,
   "id": "da2d1044",
   "metadata": {},
   "outputs": [
    {
     "data": {
      "text/html": [
       "<style>#sk-container-id-2 {color: black;}#sk-container-id-2 pre{padding: 0;}#sk-container-id-2 div.sk-toggleable {background-color: white;}#sk-container-id-2 label.sk-toggleable__label {cursor: pointer;display: block;width: 100%;margin-bottom: 0;padding: 0.3em;box-sizing: border-box;text-align: center;}#sk-container-id-2 label.sk-toggleable__label-arrow:before {content: \"▸\";float: left;margin-right: 0.25em;color: #696969;}#sk-container-id-2 label.sk-toggleable__label-arrow:hover:before {color: black;}#sk-container-id-2 div.sk-estimator:hover label.sk-toggleable__label-arrow:before {color: black;}#sk-container-id-2 div.sk-toggleable__content {max-height: 0;max-width: 0;overflow: hidden;text-align: left;background-color: #f0f8ff;}#sk-container-id-2 div.sk-toggleable__content pre {margin: 0.2em;color: black;border-radius: 0.25em;background-color: #f0f8ff;}#sk-container-id-2 input.sk-toggleable__control:checked~div.sk-toggleable__content {max-height: 200px;max-width: 100%;overflow: auto;}#sk-container-id-2 input.sk-toggleable__control:checked~label.sk-toggleable__label-arrow:before {content: \"▾\";}#sk-container-id-2 div.sk-estimator input.sk-toggleable__control:checked~label.sk-toggleable__label {background-color: #d4ebff;}#sk-container-id-2 div.sk-label input.sk-toggleable__control:checked~label.sk-toggleable__label {background-color: #d4ebff;}#sk-container-id-2 input.sk-hidden--visually {border: 0;clip: rect(1px 1px 1px 1px);clip: rect(1px, 1px, 1px, 1px);height: 1px;margin: -1px;overflow: hidden;padding: 0;position: absolute;width: 1px;}#sk-container-id-2 div.sk-estimator {font-family: monospace;background-color: #f0f8ff;border: 1px dotted black;border-radius: 0.25em;box-sizing: border-box;margin-bottom: 0.5em;}#sk-container-id-2 div.sk-estimator:hover {background-color: #d4ebff;}#sk-container-id-2 div.sk-parallel-item::after {content: \"\";width: 100%;border-bottom: 1px solid gray;flex-grow: 1;}#sk-container-id-2 div.sk-label:hover label.sk-toggleable__label {background-color: #d4ebff;}#sk-container-id-2 div.sk-serial::before {content: \"\";position: absolute;border-left: 1px solid gray;box-sizing: border-box;top: 0;bottom: 0;left: 50%;z-index: 0;}#sk-container-id-2 div.sk-serial {display: flex;flex-direction: column;align-items: center;background-color: white;padding-right: 0.2em;padding-left: 0.2em;position: relative;}#sk-container-id-2 div.sk-item {position: relative;z-index: 1;}#sk-container-id-2 div.sk-parallel {display: flex;align-items: stretch;justify-content: center;background-color: white;position: relative;}#sk-container-id-2 div.sk-item::before, #sk-container-id-2 div.sk-parallel-item::before {content: \"\";position: absolute;border-left: 1px solid gray;box-sizing: border-box;top: 0;bottom: 0;left: 50%;z-index: -1;}#sk-container-id-2 div.sk-parallel-item {display: flex;flex-direction: column;z-index: 1;position: relative;background-color: white;}#sk-container-id-2 div.sk-parallel-item:first-child::after {align-self: flex-end;width: 50%;}#sk-container-id-2 div.sk-parallel-item:last-child::after {align-self: flex-start;width: 50%;}#sk-container-id-2 div.sk-parallel-item:only-child::after {width: 0;}#sk-container-id-2 div.sk-dashed-wrapped {border: 1px dashed gray;margin: 0 0.4em 0.5em 0.4em;box-sizing: border-box;padding-bottom: 0.4em;background-color: white;}#sk-container-id-2 div.sk-label label {font-family: monospace;font-weight: bold;display: inline-block;line-height: 1.2em;}#sk-container-id-2 div.sk-label-container {text-align: center;}#sk-container-id-2 div.sk-container {/* jupyter's `normalize.less` sets `[hidden] { display: none; }` but bootstrap.min.css set `[hidden] { display: none !important; }` so we also need the `!important` here to be able to override the default hidden behavior on the sphinx rendered scikit-learn.org. See: https://github.com/scikit-learn/scikit-learn/issues/21755 */display: inline-block !important;position: relative;}#sk-container-id-2 div.sk-text-repr-fallback {display: none;}</style><div id=\"sk-container-id-2\" class=\"sk-top-container\"><div class=\"sk-text-repr-fallback\"><pre>DecisionTreeClassifier(random_state=42)</pre><b>In a Jupyter environment, please rerun this cell to show the HTML representation or trust the notebook. <br />On GitHub, the HTML representation is unable to render, please try loading this page with nbviewer.org.</b></div><div class=\"sk-container\" hidden><div class=\"sk-item\"><div class=\"sk-estimator sk-toggleable\"><input class=\"sk-toggleable__control sk-hidden--visually\" id=\"sk-estimator-id-2\" type=\"checkbox\" checked><label for=\"sk-estimator-id-2\" class=\"sk-toggleable__label sk-toggleable__label-arrow\">DecisionTreeClassifier</label><div class=\"sk-toggleable__content\"><pre>DecisionTreeClassifier(random_state=42)</pre></div></div></div></div></div>"
      ],
      "text/plain": [
       "DecisionTreeClassifier(random_state=42)"
      ]
     },
     "execution_count": 81,
     "metadata": {},
     "output_type": "execute_result"
    }
   ],
   "source": [
    "# Define and train the Decision Tree model with default configuration\n",
    "dt_model = DecisionTreeClassifier(random_state=42)\n",
    "dt_model.fit(X_train, y_train)\n"
   ]
  },
  {
   "cell_type": "code",
   "execution_count": 82,
   "id": "38c2b896",
   "metadata": {},
   "outputs": [],
   "source": [
    "# Make predictions on the validation set\n",
    "dt_pred_val = dt_model.predict(X_valid)"
   ]
  },
  {
   "cell_type": "code",
   "execution_count": 83,
   "id": "f337cd47",
   "metadata": {},
   "outputs": [
    {
     "name": "stdout",
     "output_type": "stream",
     "text": [
      "F1_score:  0.7129629629629629\n"
     ]
    },
    {
     "data": {
      "text/plain": [
       "array([1.        , 0.66666667, 0.29166667, 0.8115016 , 0.54545455])"
      ]
     },
     "execution_count": 83,
     "metadata": {},
     "output_type": "execute_result"
    }
   ],
   "source": [
    "# Evaluate F1 score\n",
    "print(\"F1_score: \",metrics.f1_score(y_valid, dt_pred_val, average=\"micro\"))\n",
    "metrics.f1_score(y_valid, dt_pred_val, average=None)"
   ]
  },
  {
   "cell_type": "code",
   "execution_count": 84,
   "id": "9ea0f8e9",
   "metadata": {},
   "outputs": [],
   "source": [
    "dt= dt_model.predict(X_test)\n",
    "df = pd.DataFrame({\"ID\": X_test.index, \"rating\": dt})\n",
    "    # the df as a csv file in the local\n",
    "df.to_csv(\"dt_5.csv\", index=False)"
   ]
  },
  {
   "cell_type": "markdown",
   "id": "aede55d5",
   "metadata": {},
   "source": [
    "### Trial 3: Hyperparameter Tuning for Decision Tree Classifier\n",
    "\n",
    "- **Reason**: Hyperparameter tuning is crucial for optimizing the performance of the Decision Tree Classifier. By exploring different combinations of hyperparameters, we aim to identify the configuration that maximizes the model's F1 score.\n",
    "- **Expected Outcome**: Evaluate the Decision Tree Classifier's performance on the validation set using grid search to find the best hyperparameters. We expect to improve the model's F1 score compared to the default configuration.\n",
    "- **Observations**: The grid search allows us to systematically search through the hyperparameter space and select the combination that yields the best performance. By tuning the max_depth, min_samples_split, min_samples_leaf, and max_features, we can control the complexity of the decision tree and prevent overfitting.\n",
    "- **analyis**: Further analyze the impact of hyperparameter tuning on the Decision Tree Classifier's performance and compare it with the baseline and previous trials to determine the effectiveness of the tuning process.\n",
    "- **Plan for Trial 4**: try different algorithm i will use NB classifer"
   ]
  },
  {
   "cell_type": "code",
   "execution_count": 87,
   "id": "ce84801e",
   "metadata": {
    "scrolled": false
   },
   "outputs": [
    {
     "name": "stderr",
     "output_type": "stream",
     "text": [
      "C:\\Users\\smart fix\\anaconda3\\Lib\\site-packages\\sklearn\\model_selection\\_split.py:725: UserWarning: The least populated class in y has only 1 members, which is less than n_splits=5.\n",
      "  warnings.warn(\n",
      "C:\\Users\\smart fix\\anaconda3\\Lib\\site-packages\\sklearn\\model_selection\\_validation.py:425: FitFailedWarning: \n",
      "180 fits failed out of a total of 540.\n",
      "The score on these train-test partitions for these parameters will be set to nan.\n",
      "If these failures are not expected, you can try to debug them by setting error_score='raise'.\n",
      "\n",
      "Below are more details about the failures:\n",
      "--------------------------------------------------------------------------------\n",
      "43 fits failed with the following error:\n",
      "Traceback (most recent call last):\n",
      "  File \"C:\\Users\\smart fix\\anaconda3\\Lib\\site-packages\\sklearn\\model_selection\\_validation.py\", line 732, in _fit_and_score\n",
      "    estimator.fit(X_train, y_train, **fit_params)\n",
      "  File \"C:\\Users\\smart fix\\anaconda3\\Lib\\site-packages\\sklearn\\base.py\", line 1144, in wrapper\n",
      "    estimator._validate_params()\n",
      "  File \"C:\\Users\\smart fix\\anaconda3\\Lib\\site-packages\\sklearn\\base.py\", line 637, in _validate_params\n",
      "    validate_parameter_constraints(\n",
      "  File \"C:\\Users\\smart fix\\anaconda3\\Lib\\site-packages\\sklearn\\utils\\_param_validation.py\", line 95, in validate_parameter_constraints\n",
      "    raise InvalidParameterError(\n",
      "sklearn.utils._param_validation.InvalidParameterError: The 'max_features' parameter of DecisionTreeClassifier must be an int in the range [1, inf), a float in the range (0.0, 1.0], a str among {'log2', 'sqrt'} or None. Got 'auto' instead.\n",
      "\n",
      "--------------------------------------------------------------------------------\n",
      "137 fits failed with the following error:\n",
      "Traceback (most recent call last):\n",
      "  File \"C:\\Users\\smart fix\\anaconda3\\Lib\\site-packages\\sklearn\\model_selection\\_validation.py\", line 732, in _fit_and_score\n",
      "    estimator.fit(X_train, y_train, **fit_params)\n",
      "  File \"C:\\Users\\smart fix\\anaconda3\\Lib\\site-packages\\sklearn\\base.py\", line 1144, in wrapper\n",
      "    estimator._validate_params()\n",
      "  File \"C:\\Users\\smart fix\\anaconda3\\Lib\\site-packages\\sklearn\\base.py\", line 637, in _validate_params\n",
      "    validate_parameter_constraints(\n",
      "  File \"C:\\Users\\smart fix\\anaconda3\\Lib\\site-packages\\sklearn\\utils\\_param_validation.py\", line 95, in validate_parameter_constraints\n",
      "    raise InvalidParameterError(\n",
      "sklearn.utils._param_validation.InvalidParameterError: The 'max_features' parameter of DecisionTreeClassifier must be an int in the range [1, inf), a float in the range (0.0, 1.0], a str among {'sqrt', 'log2'} or None. Got 'auto' instead.\n",
      "\n",
      "  warnings.warn(some_fits_failed_message, FitFailedWarning)\n",
      "C:\\Users\\smart fix\\anaconda3\\Lib\\site-packages\\sklearn\\model_selection\\_search.py:976: UserWarning: One or more of the test scores are non-finite: [       nan        nan        nan        nan        nan        nan\n",
      "        nan        nan        nan 0.66666219 0.69093964 0.66201774\n",
      " 0.65966528 0.6700699  0.66197742 0.68866111 0.68866111 0.66897432\n",
      " 0.66666219 0.69093964 0.66201774 0.65966528 0.6700699  0.66197742\n",
      " 0.68866111 0.68866111 0.66897432        nan        nan        nan\n",
      "        nan        nan        nan        nan        nan        nan\n",
      " 0.71180266 0.71759645 0.70019492 0.6759309  0.69096653 0.71639333\n",
      " 0.70949052 0.70949052 0.68977685 0.71180266 0.71759645 0.70019492\n",
      " 0.6759309  0.69096653 0.71639333 0.70949052 0.70949052 0.68977685\n",
      "        nan        nan        nan        nan        nan        nan\n",
      "        nan        nan        nan 0.65735986 0.69671999 0.66201774\n",
      " 0.65966528 0.66775776 0.66197742 0.68866111 0.68866111 0.66897432\n",
      " 0.65735986 0.69671999 0.66201774 0.65966528 0.66775776 0.66197742\n",
      " 0.68866111 0.68866111 0.66897432        nan        nan        nan\n",
      "        nan        nan        nan        nan        nan        nan\n",
      " 0.66666219 0.69093964 0.66201774 0.65966528 0.6700699  0.66197742\n",
      " 0.68866111 0.68866111 0.66897432 0.66666219 0.69093964 0.66201774\n",
      " 0.65966528 0.6700699  0.66197742 0.68866111 0.68866111 0.66897432]\n",
      "  warnings.warn(\n"
     ]
    }
   ],
   "source": [
    "# Define the hyperparameters to tune\n",
    "param_grid = {\n",
    "    'max_depth': [None, 10, 20, 30],\n",
    "    'min_samples_split': [2, 5, 10],\n",
    "    'min_samples_leaf': [1, 2, 4],\n",
    "    'max_features': ['auto', 'sqrt', 'log2']\n",
    "}\n",
    "\n",
    "# Perform GridSearchCV to find the best hyperparameters\n",
    "grid_search = GridSearchCV(dt_model, param_grid, cv=5, scoring='f1_micro', n_jobs=-1)\n",
    "grid_search.fit(X_train, y_train)\n",
    "\n",
    "# Get the best model\n",
    "best_dt_model = grid_search.best_estimator_\n",
    "\n",
    "# Make predictions on the validation set using the best model\n",
    "y_pred_val = best_dt_model.predict(X_valid)\n",
    "\n"
   ]
  },
  {
   "cell_type": "code",
   "execution_count": 89,
   "id": "ae091c71",
   "metadata": {},
   "outputs": [
    {
     "name": "stdout",
     "output_type": "stream",
     "text": [
      "F1_score:  0.7314814814814816\n"
     ]
    },
    {
     "data": {
      "text/plain": [
       "array([1.        , 0.25      , 0.11764706, 0.8452381 , 0.46153846])"
      ]
     },
     "execution_count": 89,
     "metadata": {},
     "output_type": "execute_result"
    }
   ],
   "source": [
    "# Evaluate F1 score\n",
    "print(\"F1_score: \",metrics.f1_score(y_valid, y_pred_val, average=\"micro\"))\n",
    "metrics.f1_score(y_valid, y_pred_val, average=None)"
   ]
  },
  {
   "cell_type": "code",
   "execution_count": 88,
   "id": "e7b1cd77",
   "metadata": {},
   "outputs": [],
   "source": [
    "best_dt= best_dt_model.predict(X_test)\n",
    "df = pd.DataFrame({\"ID\": X_test.index, \"rating\": best_dt})\n",
    "    # the df as a csv file in the local\n",
    "df.to_csv(\"best_dt5.csv\", index=False)"
   ]
  },
  {
   "cell_type": "markdown",
   "id": "e838d755",
   "metadata": {},
   "source": [
    "Baseline Performance: Before hyperparameter tuning, the Decision Tree model achieved an F1 score of 0.716 on the test data. This initial performance serves as a baseline reference point, indicating the model's performance with default hyperparameters.\n",
    "\n",
    "Improved Performance: After hyperparameter tuning, the Decision Tree model's performance significantly improved, yielding an F1 score of 0.745 on the test data. This enhancement demonstrates the impact of hyperparameter optimization in fine-tuning the model for better predictive accuracy.\n",
    "\n",
    "Effectiveness of Hyperparameter Tuning: The observed increase in the F1 score from 0.716 to 0.745 underscores the effectiveness of hyperparameter tuning in optimizing the model's performance"
   ]
  },
  {
   "cell_type": "markdown",
   "id": "a488e636",
   "metadata": {},
   "source": [
    "### Trial : Naive Bayes (NB)\n",
    "\n",
    "- **Reason**: Naive Bayes is a simple yet powerful probabilistic classifier that assumes independence between features. We chose to include Naive Bayes in our trials to explore its performance on the dataset and compare it with other more complex models.\n",
    "  \n",
    "- **Expected Outcome**: We anticipated that Naive Bayes might struggle with capturing dependencies between features, leading to lower predictive performance compared to ensemble methods like Random Forest or Gradient Boosting Classifier.\n",
    "  \n",
    "- **Observations**: Naive Bayes yielded the lowest F1 score of 0.4306 on the validation set. This poor performance suggests that its simplifying assumptions about feature independence may not hold true for the dataset. Naive Bayes is particularly sensitive to violations of its independence assumption, which can negatively impact its predictive accuracy.\n",
    "  \n",
    "- **Plan for Next Steps**: Given the poor performance of Naive Bayes, we will focus on more complex models that can better capture the relationships between features in the dataset. Additionally, we may explore feature engineering techniques or alternative algorithms to improve predictive performance further.\n"
   ]
  },
  {
   "cell_type": "code",
   "execution_count": 90,
   "id": "38ec71d0",
   "metadata": {},
   "outputs": [
    {
     "data": {
      "text/html": [
       "<style>#sk-container-id-3 {color: black;}#sk-container-id-3 pre{padding: 0;}#sk-container-id-3 div.sk-toggleable {background-color: white;}#sk-container-id-3 label.sk-toggleable__label {cursor: pointer;display: block;width: 100%;margin-bottom: 0;padding: 0.3em;box-sizing: border-box;text-align: center;}#sk-container-id-3 label.sk-toggleable__label-arrow:before {content: \"▸\";float: left;margin-right: 0.25em;color: #696969;}#sk-container-id-3 label.sk-toggleable__label-arrow:hover:before {color: black;}#sk-container-id-3 div.sk-estimator:hover label.sk-toggleable__label-arrow:before {color: black;}#sk-container-id-3 div.sk-toggleable__content {max-height: 0;max-width: 0;overflow: hidden;text-align: left;background-color: #f0f8ff;}#sk-container-id-3 div.sk-toggleable__content pre {margin: 0.2em;color: black;border-radius: 0.25em;background-color: #f0f8ff;}#sk-container-id-3 input.sk-toggleable__control:checked~div.sk-toggleable__content {max-height: 200px;max-width: 100%;overflow: auto;}#sk-container-id-3 input.sk-toggleable__control:checked~label.sk-toggleable__label-arrow:before {content: \"▾\";}#sk-container-id-3 div.sk-estimator input.sk-toggleable__control:checked~label.sk-toggleable__label {background-color: #d4ebff;}#sk-container-id-3 div.sk-label input.sk-toggleable__control:checked~label.sk-toggleable__label {background-color: #d4ebff;}#sk-container-id-3 input.sk-hidden--visually {border: 0;clip: rect(1px 1px 1px 1px);clip: rect(1px, 1px, 1px, 1px);height: 1px;margin: -1px;overflow: hidden;padding: 0;position: absolute;width: 1px;}#sk-container-id-3 div.sk-estimator {font-family: monospace;background-color: #f0f8ff;border: 1px dotted black;border-radius: 0.25em;box-sizing: border-box;margin-bottom: 0.5em;}#sk-container-id-3 div.sk-estimator:hover {background-color: #d4ebff;}#sk-container-id-3 div.sk-parallel-item::after {content: \"\";width: 100%;border-bottom: 1px solid gray;flex-grow: 1;}#sk-container-id-3 div.sk-label:hover label.sk-toggleable__label {background-color: #d4ebff;}#sk-container-id-3 div.sk-serial::before {content: \"\";position: absolute;border-left: 1px solid gray;box-sizing: border-box;top: 0;bottom: 0;left: 50%;z-index: 0;}#sk-container-id-3 div.sk-serial {display: flex;flex-direction: column;align-items: center;background-color: white;padding-right: 0.2em;padding-left: 0.2em;position: relative;}#sk-container-id-3 div.sk-item {position: relative;z-index: 1;}#sk-container-id-3 div.sk-parallel {display: flex;align-items: stretch;justify-content: center;background-color: white;position: relative;}#sk-container-id-3 div.sk-item::before, #sk-container-id-3 div.sk-parallel-item::before {content: \"\";position: absolute;border-left: 1px solid gray;box-sizing: border-box;top: 0;bottom: 0;left: 50%;z-index: -1;}#sk-container-id-3 div.sk-parallel-item {display: flex;flex-direction: column;z-index: 1;position: relative;background-color: white;}#sk-container-id-3 div.sk-parallel-item:first-child::after {align-self: flex-end;width: 50%;}#sk-container-id-3 div.sk-parallel-item:last-child::after {align-self: flex-start;width: 50%;}#sk-container-id-3 div.sk-parallel-item:only-child::after {width: 0;}#sk-container-id-3 div.sk-dashed-wrapped {border: 1px dashed gray;margin: 0 0.4em 0.5em 0.4em;box-sizing: border-box;padding-bottom: 0.4em;background-color: white;}#sk-container-id-3 div.sk-label label {font-family: monospace;font-weight: bold;display: inline-block;line-height: 1.2em;}#sk-container-id-3 div.sk-label-container {text-align: center;}#sk-container-id-3 div.sk-container {/* jupyter's `normalize.less` sets `[hidden] { display: none; }` but bootstrap.min.css set `[hidden] { display: none !important; }` so we also need the `!important` here to be able to override the default hidden behavior on the sphinx rendered scikit-learn.org. See: https://github.com/scikit-learn/scikit-learn/issues/21755 */display: inline-block !important;position: relative;}#sk-container-id-3 div.sk-text-repr-fallback {display: none;}</style><div id=\"sk-container-id-3\" class=\"sk-top-container\"><div class=\"sk-text-repr-fallback\"><pre>GaussianNB()</pre><b>In a Jupyter environment, please rerun this cell to show the HTML representation or trust the notebook. <br />On GitHub, the HTML representation is unable to render, please try loading this page with nbviewer.org.</b></div><div class=\"sk-container\" hidden><div class=\"sk-item\"><div class=\"sk-estimator sk-toggleable\"><input class=\"sk-toggleable__control sk-hidden--visually\" id=\"sk-estimator-id-3\" type=\"checkbox\" checked><label for=\"sk-estimator-id-3\" class=\"sk-toggleable__label sk-toggleable__label-arrow\">GaussianNB</label><div class=\"sk-toggleable__content\"><pre>GaussianNB()</pre></div></div></div></div></div>"
      ],
      "text/plain": [
       "GaussianNB()"
      ]
     },
     "execution_count": 90,
     "metadata": {},
     "output_type": "execute_result"
    }
   ],
   "source": [
    "# Naive Bayes (Gaussian)\n",
    "nb_model = GaussianNB()\n",
    "nb_model.fit(X_train, y_train)"
   ]
  },
  {
   "cell_type": "code",
   "execution_count": 91,
   "id": "c52c87e1",
   "metadata": {},
   "outputs": [
    {
     "name": "stdout",
     "output_type": "stream",
     "text": [
      "F1_score on training is:  0.4097222222222222\n"
     ]
    },
    {
     "data": {
      "text/plain": [
       "array([1.        , 0.13095238, 0.26361032, 0.56105611, 0.27333333])"
      ]
     },
     "execution_count": 91,
     "metadata": {},
     "output_type": "execute_result"
    }
   ],
   "source": [
    "NB_model_pred = nb_model.predict(X_train)\n",
    "print(\"F1_score on training is: \",metrics.f1_score(y_train, NB_model_pred, average=\"micro\"))\n",
    "metrics.f1_score(y_train, NB_model_pred, average=None)"
   ]
  },
  {
   "cell_type": "code",
   "execution_count": 92,
   "id": "b5ed21fd",
   "metadata": {},
   "outputs": [
    {
     "name": "stdout",
     "output_type": "stream",
     "text": [
      "F1_score on validation:  0.4305555555555556\n"
     ]
    },
    {
     "data": {
      "text/plain": [
       "array([1.        , 0.06666667, 0.29885057, 0.60162602, 0.11940299])"
      ]
     },
     "execution_count": 92,
     "metadata": {},
     "output_type": "execute_result"
    }
   ],
   "source": [
    "NB_v1_pred = nb_model.predict(X_valid)\n",
    "print(\"F1_score on validation: \",metrics.f1_score(y_valid, NB_v1_pred , average=\"micro\"))\n",
    "metrics.f1_score(y_valid, NB_v1_pred, average=None)"
   ]
  },
  {
   "cell_type": "code",
   "execution_count": 93,
   "id": "7eb20429",
   "metadata": {},
   "outputs": [],
   "source": [
    "NB_pred= nb_model.predict(X_test)\n",
    "df = pd.DataFrame({\"ID\": X_test.index, \"rating\": NB_pred})\n",
    "    # the df as a csv file in the local\n",
    "df.to_csv(\"NB_pred5.csv\", index=False)"
   ]
  },
  {
   "cell_type": "markdown",
   "id": "b9f7cacb",
   "metadata": {},
   "source": [
    "### NB analysis\n",
    "the performance of the Naive Bayes (NB) classifier with an F1 score of 0.43 should be analyzed in the context of this imbalance. we can analyze the model's performance considering class imbalance:\n",
    "\n",
    "Imbalance Impact: Class imbalance can significantly affect the performance of machine learning models, especially when the minority class is underrepresented. In my case, the imbalance might lead to the NB classifier favoring the majority class during training, which could result in lower sensitivity (recall) and, consequently, a lower F1 score."
   ]
  },
  {
   "cell_type": "markdown",
   "id": "c69a2347",
   "metadata": {},
   "source": [
    "### Trial : Gradient Boosting Classifier\n",
    "\n",
    "- **Reason**: The Gradient Boosting Classifier is known for its robustness and ability to handle complex datasets by combining multiple weak learners into a strong ensemble model. By trying a different algorithm, we aim to leverage the strengths of gradient boosting and potentially achieve better performance compared to the Decision Tree Classifier.\n",
    "  \n",
    "- **Expected Outcome**: Evaluate the performance of the Gradient Boosting Classifier on the validation set and compare it with the previous models. We expect the Gradient Boosting Classifier to provide better generalization and predictive power, especially if the dataset contains complex relationships.\n",
    "\n",
    "- **Observations**: Gradient boosting iteratively builds an ensemble of decision trees, where each subsequent tree corrects the errors of the previous ones. This approach can capture complex patterns in the data and often leads to improved performance. However, gradient boosting may require careful tuning of hyperparameters to prevent overfitting."
   ]
  },
  {
   "cell_type": "code",
   "execution_count": 98,
   "id": "ccd3d4a4",
   "metadata": {},
   "outputs": [
    {
     "data": {
      "text/html": [
       "<style>#sk-container-id-4 {color: black;}#sk-container-id-4 pre{padding: 0;}#sk-container-id-4 div.sk-toggleable {background-color: white;}#sk-container-id-4 label.sk-toggleable__label {cursor: pointer;display: block;width: 100%;margin-bottom: 0;padding: 0.3em;box-sizing: border-box;text-align: center;}#sk-container-id-4 label.sk-toggleable__label-arrow:before {content: \"▸\";float: left;margin-right: 0.25em;color: #696969;}#sk-container-id-4 label.sk-toggleable__label-arrow:hover:before {color: black;}#sk-container-id-4 div.sk-estimator:hover label.sk-toggleable__label-arrow:before {color: black;}#sk-container-id-4 div.sk-toggleable__content {max-height: 0;max-width: 0;overflow: hidden;text-align: left;background-color: #f0f8ff;}#sk-container-id-4 div.sk-toggleable__content pre {margin: 0.2em;color: black;border-radius: 0.25em;background-color: #f0f8ff;}#sk-container-id-4 input.sk-toggleable__control:checked~div.sk-toggleable__content {max-height: 200px;max-width: 100%;overflow: auto;}#sk-container-id-4 input.sk-toggleable__control:checked~label.sk-toggleable__label-arrow:before {content: \"▾\";}#sk-container-id-4 div.sk-estimator input.sk-toggleable__control:checked~label.sk-toggleable__label {background-color: #d4ebff;}#sk-container-id-4 div.sk-label input.sk-toggleable__control:checked~label.sk-toggleable__label {background-color: #d4ebff;}#sk-container-id-4 input.sk-hidden--visually {border: 0;clip: rect(1px 1px 1px 1px);clip: rect(1px, 1px, 1px, 1px);height: 1px;margin: -1px;overflow: hidden;padding: 0;position: absolute;width: 1px;}#sk-container-id-4 div.sk-estimator {font-family: monospace;background-color: #f0f8ff;border: 1px dotted black;border-radius: 0.25em;box-sizing: border-box;margin-bottom: 0.5em;}#sk-container-id-4 div.sk-estimator:hover {background-color: #d4ebff;}#sk-container-id-4 div.sk-parallel-item::after {content: \"\";width: 100%;border-bottom: 1px solid gray;flex-grow: 1;}#sk-container-id-4 div.sk-label:hover label.sk-toggleable__label {background-color: #d4ebff;}#sk-container-id-4 div.sk-serial::before {content: \"\";position: absolute;border-left: 1px solid gray;box-sizing: border-box;top: 0;bottom: 0;left: 50%;z-index: 0;}#sk-container-id-4 div.sk-serial {display: flex;flex-direction: column;align-items: center;background-color: white;padding-right: 0.2em;padding-left: 0.2em;position: relative;}#sk-container-id-4 div.sk-item {position: relative;z-index: 1;}#sk-container-id-4 div.sk-parallel {display: flex;align-items: stretch;justify-content: center;background-color: white;position: relative;}#sk-container-id-4 div.sk-item::before, #sk-container-id-4 div.sk-parallel-item::before {content: \"\";position: absolute;border-left: 1px solid gray;box-sizing: border-box;top: 0;bottom: 0;left: 50%;z-index: -1;}#sk-container-id-4 div.sk-parallel-item {display: flex;flex-direction: column;z-index: 1;position: relative;background-color: white;}#sk-container-id-4 div.sk-parallel-item:first-child::after {align-self: flex-end;width: 50%;}#sk-container-id-4 div.sk-parallel-item:last-child::after {align-self: flex-start;width: 50%;}#sk-container-id-4 div.sk-parallel-item:only-child::after {width: 0;}#sk-container-id-4 div.sk-dashed-wrapped {border: 1px dashed gray;margin: 0 0.4em 0.5em 0.4em;box-sizing: border-box;padding-bottom: 0.4em;background-color: white;}#sk-container-id-4 div.sk-label label {font-family: monospace;font-weight: bold;display: inline-block;line-height: 1.2em;}#sk-container-id-4 div.sk-label-container {text-align: center;}#sk-container-id-4 div.sk-container {/* jupyter's `normalize.less` sets `[hidden] { display: none; }` but bootstrap.min.css set `[hidden] { display: none !important; }` so we also need the `!important` here to be able to override the default hidden behavior on the sphinx rendered scikit-learn.org. See: https://github.com/scikit-learn/scikit-learn/issues/21755 */display: inline-block !important;position: relative;}#sk-container-id-4 div.sk-text-repr-fallback {display: none;}</style><div id=\"sk-container-id-4\" class=\"sk-top-container\"><div class=\"sk-text-repr-fallback\"><pre>GradientBoostingClassifier()</pre><b>In a Jupyter environment, please rerun this cell to show the HTML representation or trust the notebook. <br />On GitHub, the HTML representation is unable to render, please try loading this page with nbviewer.org.</b></div><div class=\"sk-container\" hidden><div class=\"sk-item\"><div class=\"sk-estimator sk-toggleable\"><input class=\"sk-toggleable__control sk-hidden--visually\" id=\"sk-estimator-id-4\" type=\"checkbox\" checked><label for=\"sk-estimator-id-4\" class=\"sk-toggleable__label sk-toggleable__label-arrow\">GradientBoostingClassifier</label><div class=\"sk-toggleable__content\"><pre>GradientBoostingClassifier()</pre></div></div></div></div></div>"
      ],
      "text/plain": [
       "GradientBoostingClassifier()"
      ]
     },
     "execution_count": 98,
     "metadata": {},
     "output_type": "execute_result"
    }
   ],
   "source": [
    "from sklearn.ensemble import GradientBoostingClassifier\n",
    "\n",
    "# Example of Gradient Boosting Classifier\n",
    "gb_model = GradientBoostingClassifier(n_estimators=100, learning_rate=0.1, max_depth=3)\n",
    "gb_model.fit(X_train, y_train)"
   ]
  },
  {
   "cell_type": "code",
   "execution_count": 99,
   "id": "ea7a5083",
   "metadata": {},
   "outputs": [
    {
     "name": "stdout",
     "output_type": "stream",
     "text": [
      "F1_score on training is:  0.9409722222222222\n"
     ]
    },
    {
     "data": {
      "text/plain": [
       "array([1.        , 1.        , 0.84375   , 0.95981087, 0.91358025])"
      ]
     },
     "execution_count": 99,
     "metadata": {},
     "output_type": "execute_result"
    }
   ],
   "source": [
    "gb_v1_pred = gb_model.predict(X_train)\n",
    "print(\"F1_score on training is: \",metrics.f1_score(y_train, gb_v1_pred, average=\"micro\"))\n",
    "metrics.f1_score(y_train, gb_v1_pred, average=None)"
   ]
  },
  {
   "cell_type": "code",
   "execution_count": 100,
   "id": "6cde381d",
   "metadata": {},
   "outputs": [
    {
     "name": "stdout",
     "output_type": "stream",
     "text": [
      "F1_score on validation:  0.8148148148148148\n"
     ]
    },
    {
     "data": {
      "text/plain": [
       "array([1.        , 0.5       , 0.38709677, 0.8914956 , 0.59259259])"
      ]
     },
     "execution_count": 100,
     "metadata": {},
     "output_type": "execute_result"
    }
   ],
   "source": [
    "gb_v1_pred = gb_model.predict(X_valid)\n",
    "print(\"F1_score on validation: \",metrics.f1_score(y_valid, gb_v1_pred, average=\"micro\"))\n",
    "metrics.f1_score(y_valid, gb_v1_pred, average=None)"
   ]
  },
  {
   "cell_type": "code",
   "execution_count": 101,
   "id": "07355e6f",
   "metadata": {},
   "outputs": [],
   "source": [
    "gb_pred= gb_model.predict(X_test)\n",
    "df = pd.DataFrame({\"ID\": X_test.index, \"rating\": gb_pred})\n",
    "    # the df as a csv file in the local\n",
    "df.to_csv(\"gb_pred5.csv\", index=False)"
   ]
  },
  {
   "cell_type": "markdown",
   "id": "e5868c37",
   "metadata": {},
   "source": [
    "### Analysis: Comparison of Decision Tree and Gradient Boosting Classifier\n",
    "\n",
    "The performance comparison between the Decision Tree Classifier and the Gradient Boosting Classifier on the validation set reveals interesting insights:\n",
    "\n",
    "- **Decision Tree Classifier**:\n",
    "  - F1 Score on Validation: 0.730\n",
    "  - The Decision Tree Classifier achieved a respectable F1 score on the validation set. However, it appears that the model might have reached its limit in capturing the underlying patterns in the data, as indicated by the moderate F1 score.\n",
    "\n",
    "- **Gradient Boosting Classifier**:\n",
    "  - F1 Score on Validation: 0.815\n",
    "  - In contrast, the Gradient Boosting Classifier demonstrated superior performance with a higher F1 score on the validation set. This suggests that the ensemble approach of gradient boosting effectively captured more complex relationships in the data compared to the single decision tree.\n",
    "\n",
    "- **Observations**:\n",
    "  - The Decision Tree Classifier, being a simple model, struggled to capture complex patterns in the data, leading to suboptimal performance.\n",
    "  - On the other hand, the Gradient Boosting Classifier, by combining multiple weak learners into a strong ensemble, demonstrated better generalization and predictive power, resulting in higher accuracy and F1 score.\n",
    "  - However, it's worth noting that gradient boosting requires more computational resources and careful hyperparameter tuning compared to decision trees.\n",
    "\n",
    "- **Conclusion**:\n",
    "  - The comparison highlights the importance of selecting the appropriate model for the dataset at hand. While decision trees offer simplicity and interpretability, gradient boosting excels in capturing intricate relationships in complex datasets.\n",
    "  - In this scenario, the Gradient Boosting Classifier outperformed the Decision Tree Classifier, indicating its suitability for the task at hand. Further optimization and tuning of the gradient boosting model could potentially yield even better results.\n"
   ]
  },
  {
   "cell_type": "markdown",
   "id": "17a14839",
   "metadata": {},
   "source": [
    "### Trial : Support Vector Machine (SVM) Classifier\n",
    "\n",
    "#### Reason:\n",
    "SVMs are powerful models known for their ability to handle complex datasets and capture intricate decision boundaries. By experimenting with an SVM Classifier, we aim to explore whether it can achieve superior performance compared to previous models.\n",
    "\n",
    "#### Expected Outcome:\n",
    "Evaluate the SVM Classifier's performance on the validation set and compare it with previous models, particularly the Gradient Boosting Classifier. We expect the SVM to demonstrate competitive performance and potentially outperform the Gradient Boosting Classifier in certain scenarios.\n",
    "#### Plan:\n",
    "1. **Model Selection**: Implement the SVM Classifier using scikit-learn's SVC class.\n",
    "2. **Hyperparameter Tuning**: Experiment with different hyperparameters such as the choice of kernel (linear, polynomial, or radial basis function), regularization parameter (C), and kernel coefficients (gamma) to optimize model performance.\n",
    "3. **Performance Evaluation**: Evaluate the SVM Classifier's performance on the validation set using F1 score.\n",
    "4. **Comparison**: Compare the performance of the SVM Classifier with previous models, particularly the Gradient Boosting Classifier, to identify the best-performing model for the task at hand."
   ]
  },
  {
   "cell_type": "code",
   "execution_count": 104,
   "id": "9cadb548",
   "metadata": {},
   "outputs": [
    {
     "name": "stdout",
     "output_type": "stream",
     "text": [
      "F1_score on training is:  0.7060185185185185\n"
     ]
    },
    {
     "data": {
      "text/plain": [
       "array([0.        , 0.        , 0.01785714, 0.82744565, 0.        ])"
      ]
     },
     "execution_count": 104,
     "metadata": {},
     "output_type": "execute_result"
    }
   ],
   "source": [
    "svm_poly_model = SVC(kernel='poly')\n",
    "\n",
    "# Train the SVM model on the training data\n",
    "svm_poly_model.fit(X_train, y_train)\n",
    "\n",
    "# Evaluate the SVM model on the validation set\n",
    "y_pred_val_svm_poly = svm_poly_model.predict(X_train)\n",
    "print(\"F1_score on training is: \",metrics.f1_score(y_train, y_pred_val_svm_poly, average=\"micro\"))\n",
    "metrics.f1_score(y_train, y_pred_val_svm_poly, average=None)"
   ]
  },
  {
   "cell_type": "code",
   "execution_count": 105,
   "id": "3f87c44a",
   "metadata": {},
   "outputs": [
    {
     "name": "stdout",
     "output_type": "stream",
     "text": [
      "F1_score on validation is:  0.7314814814814816\n"
     ]
    },
    {
     "data": {
      "text/plain": [
       "array([0.        , 0.        , 0.        , 0.84491979, 0.        ])"
      ]
     },
     "execution_count": 105,
     "metadata": {},
     "output_type": "execute_result"
    }
   ],
   "source": [
    "y_pred_val_svm_poly = svm_poly_model.predict(X_valid)\n",
    "print(\"F1_score on validation is: \",metrics.f1_score(y_valid, y_pred_val_svm_poly, average=\"micro\"))\n",
    "metrics.f1_score(y_valid, y_pred_val_svm_poly, average=None)"
   ]
  },
  {
   "cell_type": "code",
   "execution_count": 61,
   "id": "ff0ec9a3",
   "metadata": {},
   "outputs": [],
   "source": [
    "svm_poly= svm_poly_model.predict(X_test)\n",
    "df = pd.DataFrame({\"ID\": X_test.index, \"rating\": svm_poly})\n",
    "    # the df as a csv file in the local\n",
    "df.to_csv(\"svm3.csv\", index=False)"
   ]
  },
  {
   "cell_type": "markdown",
   "id": "57fa4a24",
   "metadata": {},
   "source": [
    "### Model Performance Comparison Across Trials\n",
    "\n",
    "Here is a comparison of the F1 scores achieved on the validation set across different model trials:\n",
    "\n",
    "| Trial | Model                   | F1 Score on Validation |\n",
    "|-------|-------------------------|------------------------|\n",
    "| 1     | Decision Tree           | 0.73                   |\n",
    "| 2     | Gradient Boosting       | 0.81                   |\n",
    "| 3     | Decision Tree (Tuned)   | 0.73                   |\n",
    "| 4     | SVM                     | 0.73                   |\n",
    "\n",
    "#### Observations and Insights:\n",
    "- The Decision Tree model, both with and without hyperparameter tuning, achieved an F1 score of 0.73 on the validation set.\n",
    "- Gradient Boosting outperformed the other models with an impressive F1 score of 0.81, indicating superior predictive performance.\n",
    "- The SVM model also achieved an F1 score of 0.73, similar to the Decision Tree models.\n",
    "- It's noteworthy that hyperparameter tuning did not significantly improve the Decision Tree model's performance in Trial 3 compared to the baseline.\n",
    "\n",
    "#### Conclusion:\n",
    "- Among the models tested, Gradient Boosting demonstrated the best performance on the validation set, with the highest F1 score of 0.81.\n",
    "- Decision Tree and SVM models performed similarly, with F1 scores of 0.73, suggesting that they may require further optimization or feature engineering to improve their predictive capabilities.\n",
    "- The comparison highlights the importance of experimenting with different models and techniques to identify the most effective approach for the given task.\n"
   ]
  },
  {
   "cell_type": "markdown",
   "id": "d1398108",
   "metadata": {},
   "source": [
    "## Trial: Voting Classifier\n",
    "\n",
    "#### Reasoning:\n",
    "- Voting Classifier combines multiple individual models to improve overall predictive performance. By leveraging the diverse strengths of different models, Voting Classifier aims to achieve better generalization and robustness.\n",
    "\n",
    "#### Plan:\n",
    "- Construct a Voting Classifier using RandomForestClassifier and GradientBoostingClassifier as base models.\n",
    "- Evaluate the ensemble model's performance on the validation set and compare it with individual base models.\n",
    "\n",
    "#### Expected Outcome:\n",
    "- We anticipate that the Voting Classifier will offer improved performance compared to individual base models by leveraging their collective predictive capabilities.\n",
    "- The ensemble approach may lead to better model generalization and resilience to overfitting.\n",
    "\n"
   ]
  },
  {
   "cell_type": "code",
   "execution_count": 108,
   "id": "d84a21ca",
   "metadata": {},
   "outputs": [
    {
     "data": {
      "text/html": [
       "<style>#sk-container-id-5 {color: black;}#sk-container-id-5 pre{padding: 0;}#sk-container-id-5 div.sk-toggleable {background-color: white;}#sk-container-id-5 label.sk-toggleable__label {cursor: pointer;display: block;width: 100%;margin-bottom: 0;padding: 0.3em;box-sizing: border-box;text-align: center;}#sk-container-id-5 label.sk-toggleable__label-arrow:before {content: \"▸\";float: left;margin-right: 0.25em;color: #696969;}#sk-container-id-5 label.sk-toggleable__label-arrow:hover:before {color: black;}#sk-container-id-5 div.sk-estimator:hover label.sk-toggleable__label-arrow:before {color: black;}#sk-container-id-5 div.sk-toggleable__content {max-height: 0;max-width: 0;overflow: hidden;text-align: left;background-color: #f0f8ff;}#sk-container-id-5 div.sk-toggleable__content pre {margin: 0.2em;color: black;border-radius: 0.25em;background-color: #f0f8ff;}#sk-container-id-5 input.sk-toggleable__control:checked~div.sk-toggleable__content {max-height: 200px;max-width: 100%;overflow: auto;}#sk-container-id-5 input.sk-toggleable__control:checked~label.sk-toggleable__label-arrow:before {content: \"▾\";}#sk-container-id-5 div.sk-estimator input.sk-toggleable__control:checked~label.sk-toggleable__label {background-color: #d4ebff;}#sk-container-id-5 div.sk-label input.sk-toggleable__control:checked~label.sk-toggleable__label {background-color: #d4ebff;}#sk-container-id-5 input.sk-hidden--visually {border: 0;clip: rect(1px 1px 1px 1px);clip: rect(1px, 1px, 1px, 1px);height: 1px;margin: -1px;overflow: hidden;padding: 0;position: absolute;width: 1px;}#sk-container-id-5 div.sk-estimator {font-family: monospace;background-color: #f0f8ff;border: 1px dotted black;border-radius: 0.25em;box-sizing: border-box;margin-bottom: 0.5em;}#sk-container-id-5 div.sk-estimator:hover {background-color: #d4ebff;}#sk-container-id-5 div.sk-parallel-item::after {content: \"\";width: 100%;border-bottom: 1px solid gray;flex-grow: 1;}#sk-container-id-5 div.sk-label:hover label.sk-toggleable__label {background-color: #d4ebff;}#sk-container-id-5 div.sk-serial::before {content: \"\";position: absolute;border-left: 1px solid gray;box-sizing: border-box;top: 0;bottom: 0;left: 50%;z-index: 0;}#sk-container-id-5 div.sk-serial {display: flex;flex-direction: column;align-items: center;background-color: white;padding-right: 0.2em;padding-left: 0.2em;position: relative;}#sk-container-id-5 div.sk-item {position: relative;z-index: 1;}#sk-container-id-5 div.sk-parallel {display: flex;align-items: stretch;justify-content: center;background-color: white;position: relative;}#sk-container-id-5 div.sk-item::before, #sk-container-id-5 div.sk-parallel-item::before {content: \"\";position: absolute;border-left: 1px solid gray;box-sizing: border-box;top: 0;bottom: 0;left: 50%;z-index: -1;}#sk-container-id-5 div.sk-parallel-item {display: flex;flex-direction: column;z-index: 1;position: relative;background-color: white;}#sk-container-id-5 div.sk-parallel-item:first-child::after {align-self: flex-end;width: 50%;}#sk-container-id-5 div.sk-parallel-item:last-child::after {align-self: flex-start;width: 50%;}#sk-container-id-5 div.sk-parallel-item:only-child::after {width: 0;}#sk-container-id-5 div.sk-dashed-wrapped {border: 1px dashed gray;margin: 0 0.4em 0.5em 0.4em;box-sizing: border-box;padding-bottom: 0.4em;background-color: white;}#sk-container-id-5 div.sk-label label {font-family: monospace;font-weight: bold;display: inline-block;line-height: 1.2em;}#sk-container-id-5 div.sk-label-container {text-align: center;}#sk-container-id-5 div.sk-container {/* jupyter's `normalize.less` sets `[hidden] { display: none; }` but bootstrap.min.css set `[hidden] { display: none !important; }` so we also need the `!important` here to be able to override the default hidden behavior on the sphinx rendered scikit-learn.org. See: https://github.com/scikit-learn/scikit-learn/issues/21755 */display: inline-block !important;position: relative;}#sk-container-id-5 div.sk-text-repr-fallback {display: none;}</style><div id=\"sk-container-id-5\" class=\"sk-top-container\"><div class=\"sk-text-repr-fallback\"><pre>VotingClassifier(estimators=[(&#x27;rf&#x27;, RandomForestClassifier(random_state=42)),\n",
       "                             (&#x27;gb&#x27;, GradientBoostingClassifier())],\n",
       "                 voting=&#x27;soft&#x27;)</pre><b>In a Jupyter environment, please rerun this cell to show the HTML representation or trust the notebook. <br />On GitHub, the HTML representation is unable to render, please try loading this page with nbviewer.org.</b></div><div class=\"sk-container\" hidden><div class=\"sk-item sk-dashed-wrapped\"><div class=\"sk-label-container\"><div class=\"sk-label sk-toggleable\"><input class=\"sk-toggleable__control sk-hidden--visually\" id=\"sk-estimator-id-5\" type=\"checkbox\" ><label for=\"sk-estimator-id-5\" class=\"sk-toggleable__label sk-toggleable__label-arrow\">VotingClassifier</label><div class=\"sk-toggleable__content\"><pre>VotingClassifier(estimators=[(&#x27;rf&#x27;, RandomForestClassifier(random_state=42)),\n",
       "                             (&#x27;gb&#x27;, GradientBoostingClassifier())],\n",
       "                 voting=&#x27;soft&#x27;)</pre></div></div></div><div class=\"sk-parallel\"><div class=\"sk-parallel-item\"><div class=\"sk-item\"><div class=\"sk-label-container\"><div class=\"sk-label sk-toggleable\"><label>rf</label></div></div><div class=\"sk-serial\"><div class=\"sk-item\"><div class=\"sk-estimator sk-toggleable\"><input class=\"sk-toggleable__control sk-hidden--visually\" id=\"sk-estimator-id-6\" type=\"checkbox\" ><label for=\"sk-estimator-id-6\" class=\"sk-toggleable__label sk-toggleable__label-arrow\">RandomForestClassifier</label><div class=\"sk-toggleable__content\"><pre>RandomForestClassifier(random_state=42)</pre></div></div></div></div></div></div><div class=\"sk-parallel-item\"><div class=\"sk-item\"><div class=\"sk-label-container\"><div class=\"sk-label sk-toggleable\"><label>gb</label></div></div><div class=\"sk-serial\"><div class=\"sk-item\"><div class=\"sk-estimator sk-toggleable\"><input class=\"sk-toggleable__control sk-hidden--visually\" id=\"sk-estimator-id-7\" type=\"checkbox\" ><label for=\"sk-estimator-id-7\" class=\"sk-toggleable__label sk-toggleable__label-arrow\">GradientBoostingClassifier</label><div class=\"sk-toggleable__content\"><pre>GradientBoostingClassifier()</pre></div></div></div></div></div></div></div></div></div></div>"
      ],
      "text/plain": [
       "VotingClassifier(estimators=[('rf', RandomForestClassifier(random_state=42)),\n",
       "                             ('gb', GradientBoostingClassifier())],\n",
       "                 voting='soft')"
      ]
     },
     "execution_count": 108,
     "metadata": {},
     "output_type": "execute_result"
    }
   ],
   "source": [
    "from sklearn.ensemble import VotingClassifier\n",
    "\n",
    "# Example of Voting Classifier (you can customize with your own models)\n",
    "model1 = RandomForestClassifier(n_estimators=100, random_state=42)\n",
    "model2 = GradientBoostingClassifier(n_estimators=100, learning_rate=0.1, max_depth=3)\n",
    "\n",
    "voting_clf = VotingClassifier(estimators=[('rf', model1), ('gb', model2)], voting='soft')\n",
    "voting_clf.fit(X_train, y_train)"
   ]
  },
  {
   "cell_type": "code",
   "execution_count": 109,
   "id": "f03c340c",
   "metadata": {},
   "outputs": [
    {
     "name": "stdout",
     "output_type": "stream",
     "text": [
      "F1_score on training is:  0.9710648148148148\n"
     ]
    },
    {
     "data": {
      "text/plain": [
       "array([1.        , 1.        , 0.93269231, 0.97988737, 0.95652174])"
      ]
     },
     "execution_count": 109,
     "metadata": {},
     "output_type": "execute_result"
    }
   ],
   "source": [
    "VotingClass = voting_clf.predict(X_train)\n",
    "print(\"F1_score on training is: \",metrics.f1_score(y_train, VotingClass , average=\"micro\"))\n",
    "metrics.f1_score(y_train, VotingClass , average=None)"
   ]
  },
  {
   "cell_type": "code",
   "execution_count": 110,
   "id": "9c60e764",
   "metadata": {},
   "outputs": [
    {
     "name": "stdout",
     "output_type": "stream",
     "text": [
      "F1_score on validatoin is:  0.8148148148148148\n"
     ]
    },
    {
     "data": {
      "text/plain": [
       "array([1.        , 0.5       , 0.22222222, 0.89275362, 0.62962963])"
      ]
     },
     "execution_count": 110,
     "metadata": {},
     "output_type": "execute_result"
    }
   ],
   "source": [
    "VotingClass = voting_clf.predict(X_valid)\n",
    "print(\"F1_score on validatoin is: \",metrics.f1_score(y_valid, VotingClass , average=\"micro\"))\n",
    "metrics.f1_score(y_valid, VotingClass , average=None)"
   ]
  },
  {
   "cell_type": "markdown",
   "id": "99b3cb92",
   "metadata": {},
   "source": [
    "### Summary of Model Evaluations\n",
    "\n",
    "Below is a summary of the F1 scores obtained from different trials of model evaluations:\n",
    "\n",
    "- **Trial 0: Baseline Model**\n",
    "  - F1 Score on Validation: 0.7808\n",
    "\n",
    "- **Trial 1: Random Forest with Hyperparameter Tuning**\n",
    "  - F1 Score on Validation: 0.7854\n",
    "\n",
    "- **Trial 2: Decision Tree Classifier**\n",
    "  - F1 Score on Validation: 0.716\n",
    "\n",
    "- **Trial 3: Hyperparameter Tuning for Decision Tree Classifier**\n",
    "  - F1 Score on Validation: 0.745\n",
    "\n",
    "- **Trial 4: Gradient Boosting Classifier**\n",
    "  - F1 Score on Validation: 0.8148\n",
    "\n",
    "- **Trial 5: Naive Bayes (NB) Classifier**\n",
    "  - F1 Score on Validation: 0.4306\n",
    "\n",
    "- **Trial 6: Support Vector Machine (SVM) Classifier**\n",
    "  - F1 Score on Validation: 0.7314\n",
    "\n",
    "- **Trial 7: Voting Classifier (Random Forest + Gradient Boosting)**\n",
    "  - F1 Score on Validation: 0.8148\n",
    "\n",
    "### Observations:\n",
    "\n",
    "- The Naive Bayes (NB) Classifier performed poorly compared to other models, indicating that it may not be well-suited for this particular dataset.\n",
    "- Ensemble methods, such as Gradient Boosting and Voting Classifier, proved to be effective in improving model performance compared to individual base models.\n",
    "- Hyperparameter tuning helped fine-tune model parameters and enhance performance, particularly for decision tree-based models.\n",
    "- Further experimentation with feature engineering, different algorithms, and ensemble techniques could lead to additional performance improvements.\n",
    "\n",
    "### Conclusion:\n",
    "\n",
    "- While some models, like Gradient Boosting and the Voting Classifier, achieved high F1 scores, the Naive Bayes Classifier's poor performance suggests that not all algorithms are suitable for every dataset.\n",
    "- Iterative experimentation and refinement of models are essential for optimizing performance and identifying the most effective approach for the given task and dataset.\n"
   ]
  }
 ],
 "metadata": {
  "kernelspec": {
   "display_name": "Python 3 (ipykernel)",
   "language": "python",
   "name": "python3"
  },
  "language_info": {
   "codemirror_mode": {
    "name": "ipython",
    "version": 3
   },
   "file_extension": ".py",
   "mimetype": "text/x-python",
   "name": "python",
   "nbconvert_exporter": "python",
   "pygments_lexer": "ipython3",
   "version": "3.11.5"
  }
 },
 "nbformat": 4,
 "nbformat_minor": 5
}
